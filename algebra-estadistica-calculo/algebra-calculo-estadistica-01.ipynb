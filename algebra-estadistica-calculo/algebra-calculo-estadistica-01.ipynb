{
 "cells": [
  {
   "cell_type": "markdown",
   "metadata": {},
   "source": [
    "# Introduction to Derivatives"
   ]
  },
  {
   "cell_type": "markdown",
   "metadata": {},
   "source": [
    "#### Ejercicio: Importa las bibliotecas necesarias: matplotlib para visualización, numpy para operaciones numéricas y sympy para cálculos simbólicos."
   ]
  },
  {
   "cell_type": "code",
   "execution_count": null,
   "metadata": {},
   "outputs": [],
   "source": [
    "import matplotlib.pyplot as plt\n",
    "import numpy as np \n",
    "import sympy as sy"
   ]
  },
  {
   "cell_type": "markdown",
   "metadata": {},
   "source": [
    "## Motivación: Pendiente de una recta\n",
    "\n",
    "$$ \n",
    "slope = \\frac{Y2 - Y1}{X2 - X1}\n",
    "$$\n",
    "\n",
    "Considera:\n",
    "\n",
    "$$\n",
    " f(x) = x + 1  \\ \\   y   \\ \\   g(x) = x^2 + 1\n",
    "$$"
   ]
  },
  {
   "cell_type": "markdown",
   "metadata": {},
   "source": [
    "#### Ejercicio:  Define las funciones\n",
    "$$\n",
    " f(x) = x + 1  \\ \\  and   \\ \\   g(x) = x^2 + 1\n",
    "$$  \n",
    "#### para analizar sus derivadas."
   ]
  },
  {
   "cell_type": "code",
   "execution_count": 3,
   "metadata": {},
   "outputs": [],
   "source": [
    "def f(x): return x + 1\n",
    "def g(x): return x**2 + 1\n",
    "x = np.linspace(-2,2,100)"
   ]
  },
  {
   "cell_type": "markdown",
   "metadata": {},
   "source": [
    "#### Ejercicio: Grafica f(x) y g(x), marcando los puntos en x=0 y x=1. "
   ]
  },
  {
   "cell_type": "code",
   "execution_count": 4,
   "metadata": {},
   "outputs": [
    {
     "data": {},
     "execution_count": 4,
     "metadata": {},
     "output_type": "execute_result"
    },
    {
     "data": {},
     "metadata": {},
     "output_type": "display_data"
    }
   ],
   "source": [
    "plt.plot(x, f(x), label='f')\n",
    "plt.plot(x, g(x), label='g')\n",
    "plt.plot(0, f(0), 'ro')\n",
    "plt.plot(1, f(1), 'ro')\n",
    "plt.legend()"
   ]
  },
  {
   "cell_type": "markdown",
   "metadata": {},
   "source": [
    "#### Ejercicio:  Crea un nuevo array x2 en el intervalo [1,1.1] para observar el comportamiento de las funciones al hacer zoom."
   ]
  },
  {
   "cell_type": "code",
   "execution_count": 5,
   "metadata": {},
   "outputs": [],
   "source": [
    "x2 = np.linspace(1, 1.1, 100)"
   ]
  },
  {
   "cell_type": "markdown",
   "metadata": {},
   "source": [
    "#### Ejercicio:  Grafica f(x) y g(x) en el intervalo [1,1.1]. Observa cómo ambas parecen lineales en esta escala."
   ]
  },
  {
   "cell_type": "code",
   "execution_count": 6,
   "metadata": {},
   "outputs": [
    {
     "data": {},
     "execution_count": 6,
     "metadata": {},
     "output_type": "execute_result"
    },
    {
     "data": {},
     "metadata": {},
     "output_type": "display_data"
    }
   ],
   "source": [
    "plt.plot(x2, f(x2), label='f(x)')\n",
    "plt.plot(x2, g(x2), label='g(x)')\n",
    "plt.legend()\n",
    "plt.title('Zooming in on $x = [1, 1.1]$\\nNow they both look Linear!')"
   ]
  },
  {
   "cell_type": "markdown",
   "metadata": {},
   "source": [
    "#### Ejercicio: Reduce el intervalo de x2 a [1,1.001] para analizar el comportamiento con un zoom más extremo. Y  Grafica nuevamente las funciones en el intervalo [1,1.001]. Compara cómo se aproximan a una línea recta."
   ]
  },
  {
   "cell_type": "code",
   "execution_count": 120,
   "metadata": {},
   "outputs": [
    {
     "data": {},
     "execution_count": 120,
     "metadata": {},
     "output_type": "execute_result"
    },
    {
     "data": {},
     "metadata": {},
     "output_type": "display_data"
    }
   ],
   "source": [
    "x2 = np.linspace() #FIXME\n",
    "plt.plot() #FIXME\n",
    "plt.plot() #FIXME\n",
    "plt.legend()\n",
    "plt.title('Zooming in on $x = [1,1.001,100]$\\nNow they both look Linear!')"
   ]
  },
  {
   "cell_type": "markdown",
   "metadata": {},
   "source": [
    "Definición\n",
    "\n",
    "$$\n",
    "f'(x) = \\lim_{h \\to 0} \\frac{f(x + h) - f(x)}{h} \\\n",
    "$$\n",
    "\n",
    "Nota: **h** es la distancia, esta se hace cada vez más pequeña para que podamos obtener la variación más pequeña posible de **x** (pendiente)."
   ]
  },
  {
   "cell_type": "markdown",
   "metadata": {},
   "source": [
    "Podemos interpretar la derivada de varias maneras. Cuando empezamos a buscar la diferencia entre términos, podemos considerar la derivada como una medida de la tasa de cambio de alguna secuencia de números.\n",
    "\n",
    "De manera similar, si tenemos una secuencia de forma cerrada en lugar de una secuencia, podemos considerar la derivada como una función que representa la tasa de cambio de nuestra función original.\n",
    "\n",
    "## Derivada como Función con Python\n",
    "\n",
    "Primero, podemos investigar la derivada de una función utilizando la función `diff` de SymPy. Si ingresamos una expresión $f$ en términos de una variable $x$, podemos obtener la derivada de esta expresión con `sy.diff(f, x)`. Aquí hay un ejemplo:"
   ]
  },
  {
   "cell_type": "markdown",
   "metadata": {},
   "source": [
    " #### Ejercicio:  Define la función $f(x) = x^2−2x+1$ para estudiar su derivada numérica y simbólica."
   ]
  },
  {
   "cell_type": "code",
   "execution_count": 7,
   "metadata": {},
   "outputs": [],
   "source": [
    "def f(x):\n",
    "    return x**2 - 2*x + 1"
   ]
  },
  {
   "cell_type": "markdown",
   "metadata": {},
   "source": [
    "#### Ejercicio: Implementa la derivada numérica usando la definición de límite con h=0.000001."
   ]
  },
  {
   "cell_type": "code",
   "execution_count": 8,
   "metadata": {},
   "outputs": [],
   "source": [
    "def df(x):\n",
    "    h = 0.000001\n",
    "    return (f(x + h) - f(x))/h"
   ]
  },
  {
   "cell_type": "markdown",
   "metadata": {},
   "source": [
    " #### Ejercicio:  Grafica f(x) y su derivada $f'(x)$ en el intervalo [−4,4]. Identifica la relación entre la función y su tasa de cambio."
   ]
  },
  {
   "cell_type": "code",
   "execution_count": 9,
   "metadata": {},
   "outputs": [
    {
     "data": {},
     "execution_count": 9,
     "metadata": {},
     "output_type": "execute_result"
    },
    {
     "data": {},
     "metadata": {},
     "output_type": "display_data"
    }
   ],
   "source": [
    "plt.plot(x, f(x), label='$f(x)$')\n",
    "plt.plot(x, df(x), label='$f\\'(x)$')\n",
    "plt.axhline(color='black')\n",
    "plt.axvline(color='black')\n",
    "plt.legend(loc='best', frameon=False)\n",
    "plt.title(\"Function and its Derivative\")"
   ]
  },
  {
   "cell_type": "markdown",
   "metadata": {},
   "source": [
    "## A function and its derivative"
   ]
  },
  {
   "cell_type": "markdown",
   "metadata": {},
   "source": [
    "#### Ejercicio: Ajusta el dominio a [−5,2] y grafica nuevamente $f'(x)$ y . Analiza los máximos y mínimos."
   ]
  },
  {
   "cell_type": "code",
   "execution_count": 10,
   "metadata": {},
   "outputs": [
    {
     "data": {},
     "execution_count": 10,
     "metadata": {},
     "output_type": "execute_result"
    },
    {
     "data": {},
     "metadata": {},
     "output_type": "display_data"
    }
   ],
   "source": [
    "x = np.linspace(-5, 2, 100)\n",
    "plt.plot(x, f(x), label='$f(x)$')\n",
    "plt.plot(x, df(x), label='$f\\'(x)$')\n",
    "plt.axhline(color='black')\n",
    "plt.axvline(color='black')\n",
    "plt.legend(frameon=False)\n",
    "plt.title(\"Another function and its Derivative\")"
   ]
  },
  {
   "cell_type": "markdown",
   "metadata": {},
   "source": [
    "We can clean important information from the plot of the derivative about the behavior of the function we are investigating, particularly the maximum and minimum values. Perhaps we would only have the plot of the derivative; can you tell where the max and min values occur?"
   ]
  },
  {
   "cell_type": "markdown",
   "metadata": {},
   "source": [
    "#### Ejercicio: Grafica solo la derivada $f'(x)$. Determina visualmente los puntos donde la derivada cruza el eje x."
   ]
  },
  {
   "cell_type": "code",
   "execution_count": 11,
   "metadata": {},
   "outputs": [
    {
     "data": {},
     "execution_count": 11,
     "metadata": {},
     "output_type": "execute_result"
    },
    {
     "data": {},
     "metadata": {},
     "output_type": "display_data"
    }
   ],
   "source": [
    "plt.plot(x, df(x), label = \"$f'(x)$\")\n",
    "plt.axhline(color = 'black')\n",
    "plt.axvline(color = 'black')\n",
    "plt.legend(frameon = False)\n",
    "plt.title(\"Just the Derivative\")"
   ]
  },
  {
   "cell_type": "markdown",
   "metadata": {},
   "source": [
    "#### Ejercicio: Usa SymPy para calcular simbólicamente la derivada de f(x). Simplifica la expresión resultante."
   ]
  },
  {
   "cell_type": "code",
   "execution_count": 12,
   "metadata": {},
   "outputs": [
    {
     "data": {},
     "execution_count": 12,
     "metadata": {},
     "output_type": "execute_result"
    }
   ],
   "source": [
    "x = sy.Symbol('x')\n",
    "f = x**2 - 2*x + 1\n",
    "df = sy.diff(f, x)\n",
    "df = sy.expand(df)\n",
    "df"
   ]
  },
  {
   "cell_type": "markdown",
   "metadata": {},
   "source": [
    "## Derivada como Recta Tangente\n",
    "\n",
    "También podemos interpretar la derivada como la pendiente de una recta tangente, o mejor aún, una aproximación de esta recta tangente. Por ejemplo, la derivada en algún punto $a$ se puede considerar como la pendiente de la línea que pasa por $a$ y algún otro punto $a + \\Delta x$ donde $\\Delta x$ es muy pequeño.\n",
    "\n",
    "De nuevo, tendríamos algo como:\n",
    "\n",
    "$$f'(a) = \\frac{f(a + \\Delta x) - f(a)}{\\Delta x}$$\n",
    "\n",
    "Para algún valor arbitrariamente pequeño de $\\Delta x$. También podemos entender que la expresión anterior nos proporciona un medio para aproximar valores cercanos a $x = a$ usando la línea tangente. Si reorganizamos los términos, podemos ver que:\n",
    "\n",
    "$$f(a + \\Delta x) = f'(a)\\Delta x + f(a)$$"
   ]
  },
  {
   "cell_type": "markdown",
   "metadata": {},
   "source": [
    "Lo que esto hace es decirnos la pendiente de la recta tangente a la gráfica en el punto $(a, f(a))$. Supongamos que tenemos la función $f(x) = x^2$ y queremos saber la pendiente de la recta tangente en $x = 2$. Podemos definir una función como lo hacemos normalmente, y una función para la derivada. Podemos usarlos para escribir una ecuación de la recta tangente a la gráfica de la función en este punto. "
   ]
  },
  {
   "cell_type": "markdown",
   "metadata": {},
   "source": [
    "#### Ejercicio:  Define $f(x)=x ^2$  y su derivada numérica para visualizar la línea tangente en un punto"
   ]
  },
  {
   "cell_type": "code",
   "execution_count": 13,
   "metadata": {},
   "outputs": [],
   "source": [
    "def f(x):\n",
    "    return x**2\n",
    "\n",
    "def df(x):\n",
    "    h = 0.00001\n",
    "    return (f(x + h) - f(x)) / h"
   ]
  },
  {
   "cell_type": "markdown",
   "metadata": {},
   "source": [
    "#### Ejercicio: Calcula el valor de la derivada en x=2. Este resultado representa la pendiente de la tangente en ese punto."
   ]
  },
  {
   "cell_type": "code",
   "execution_count": 14,
   "metadata": {},
   "outputs": [
    {
     "data": {},
     "execution_count": 14,
     "metadata": {},
     "output_type": "execute_result"
    }
   ],
   "source": [
    "df(2)"
   ]
  },
  {
   "cell_type": "markdown",
   "metadata": {},
   "source": [
    "#### Ejercicio: Crea una función tan_plot(a) que grafique f(x), su tangente en x=a, y marque el punto de tangencia."
   ]
  },
  {
   "cell_type": "code",
   "execution_count": 15,
   "metadata": {},
   "outputs": [],
   "source": [
    "def tan_plot(a):\n",
    "    x = np.linspace((a-4), (a+4), 1000)\n",
    "    y = df(a)*(x - a) + f(a)\n",
    "    plt.plot(x, f(x))\n",
    "    plt.plot(a, f(a), 'o', markersize = 10)\n",
    "    plt.plot(x, y, '--k')\n",
    "    plt.axhline(color = 'black')\n",
    "    plt.axvline(color = 'black')"
   ]
  },
  {
   "cell_type": "markdown",
   "metadata": {},
   "source": [
    "#### Ejercicio: Ejecuta tan_plot(2) para visualizar la línea tangente a $f(x)=x^2$ en x=2."
   ]
  },
  {
   "cell_type": "code",
   "execution_count": 16,
   "metadata": {},
   "outputs": [
    {
     "data": {},
     "metadata": {},
     "output_type": "display_data"
    }
   ],
   "source": [
    "tan_plot(2)"
   ]
  },
  {
   "cell_type": "markdown",
   "metadata": {},
   "source": [
    "#### Ejercicio: Define la función g(x)=x(x+2)(x−3) y su derivada numérica para estudiar puntos críticos.\n"
   ]
  },
  {
   "cell_type": "code",
   "execution_count": 17,
   "metadata": {},
   "outputs": [],
   "source": [
    "def g(x):\n",
    "    return x * (x + 2) * (x - 3)\n",
    "\n",
    "def dg(x):\n",
    "    h = 0.000001\n",
    "    return (g(x + h) - g(x)) / h"
   ]
  },
  {
   "cell_type": "markdown",
   "metadata": {},
   "source": [
    "#### Ejercicio: Grafica g(x) en el intervalo [−3,4]. Identifica visualmente sus máximos y mínimos.\n"
   ]
  },
  {
   "cell_type": "code",
   "execution_count": 18,
   "metadata": {},
   "outputs": [
    {
     "data": {
      "text/plain": [
       "Text(0.5, 1.0, 'Graph of g(x) in the interval [-3, 4]')"
      ]
     },
     "execution_count": 18,
     "metadata": {},
     "output_type": "execute_result"
    },
    {
     "data": {
      "image/png": "[encoded data removed]",
      "text/plain": [
       "<Figure size 640x480 with 1 Axes>"
      ]
     },
     "metadata": {},
     "output_type": "display_data"
    }
   ],
   "source": [
    "x = np.linspace(-3, 4, 100)\n",
    "plt.plot(x, g(x), label='g(x)')\n",
    "plt.axhline(color='black')\n",
    "plt.axvline(color='black')\n",
    "plt.legend()\n",
    "plt.title('Graph of g(x) in the interval [-3, 4]')"
   ]
  },
  {
   "cell_type": "markdown",
   "metadata": {},
   "source": [
    "#### Ejercicio: Usa SymPy para resolver $g′(x)=0$ y encontrar los puntos críticos a y b."
   ]
  },
  {
   "cell_type": "code",
   "execution_count": 19,
   "metadata": {},
   "outputs": [
    {
     "data": {
      "text/plain": [
       "(1/3 - sqrt(19)/3, 1/3 + sqrt(19)/3)"
      ]
     },
     "execution_count": 19,
     "metadata": {},
     "output_type": "execute_result"
    }
   ],
   "source": [
    "x = sy.Symbol('x')\n",
    "g = x * (x + 2) * (x - 3)\n",
    "dg = sy.diff(g, x)\n",
    "dg = sy.simplify(dg)\n",
    "a, b = sy.solve(dg, x)\n",
    "a, b"
   ]
  },
  {
   "cell_type": "markdown",
   "metadata": {},
   "source": [
    "#### Ejercicio: Imprime los valores de a y b. Estos corresponden a los puntos donde la derivada se anula."
   ]
  },
  {
   "cell_type": "code",
   "execution_count": 20,
   "metadata": {},
   "outputs": [
    {
     "data": {
      "text/plain": [
       "(1/3 - sqrt(19)/3, 1/3 + sqrt(19)/3)"
      ]
     },
     "execution_count": 20,
     "metadata": {},
     "output_type": "execute_result"
    }
   ],
   "source": [
    "a, b"
   ]
  },
  {
   "cell_type": "markdown",
   "metadata": {},
   "source": [
    "#### Ejercicio: Grafica g(x) nuevamente, marcando los puntos críticos a y b con círculos."
   ]
  },
  {
   "cell_type": "code",
   "execution_count": 21,
   "metadata": {},
   "outputs": [
    {
     "data": {
      "text/plain": [
       "Text(0.5, 1.0, 'Graph of g(x) with critical points marked')"
      ]
     },
     "execution_count": 21,
     "metadata": {},
     "output_type": "execute_result"
    },
    {
     "data": {
      "image/png": "[encoded data removed]",
      "text/plain": [
       "<Figure size 640x480 with 1 Axes>"
      ]
     },
     "metadata": {},
     "output_type": "display_data"
    }
   ],
   "source": [
    "x = np.linspace(-3, 4, 100)\n",
    "plt.plot(x, [g.subs(sy.Symbol('x'), xi) for xi in x], label='g(x)')\n",
    "plt.axhline(color='black')\n",
    "plt.axvline(color='black')\n",
    "plt.plot(float(a), float(g.subs(sy.Symbol('x'), a)), 'o', label='Critical point a')\n",
    "plt.plot(float(b), float(g.subs(sy.Symbol('x'), b)), 'o', label='Critical point b')\n",
    "plt.legend()\n",
    "plt.title('Graph of g(x) with critical points marked')"
   ]
  },
  {
   "cell_type": "markdown",
   "metadata": {},
   "source": [
    "#### Ejercicio: Define una función tan_plot(a, b) para graficar las líneas tangentes en los puntos críticos de g(x).\n"
   ]
  },
  {
   "cell_type": "code",
   "execution_count": 25,
   "metadata": {},
   "outputs": [],
   "source": [
    "def tan_plot(a, b):\n",
    "    x = np.linspace(-5, 5, 1000)\n",
    "    g_func = sy.lambdify(sy.Symbol('x'), g)\n",
    "    dg_func = sy.lambdify(sy.Symbol('x'), dg)\n",
    "    y1 = dg_func(a) * (x - a) + g_func(a)\n",
    "    y2 = dg_func(b) * (x - b) + g_func(b)\n",
    "    plt.plot(x, g_func(x))\n",
    "    plt.plot(a, g_func(a), 'o', markersize=10)\n",
    "    plt.plot(b, g_func(b), 'o', markersize=10)\n",
    "    plt.plot(x, y1, '--k')\n",
    "    plt.plot(x, y2, '--k')\n",
    "    plt.ylim(-15, 15)\n",
    "    plt.xlim(-4, 4)\n",
    "    plt.axhline(color='black')\n",
    "    plt.axvline(color='black')"
   ]
  },
  {
   "cell_type": "markdown",
   "metadata": {},
   "source": [
    "#### Ejercicio: Ejecuta tan_plot(a, b) para visualizar las tangentes horizontales en los puntos críticos de g(x)."
   ]
  },
  {
   "cell_type": "code",
   "execution_count": 26,
   "metadata": {},
   "outputs": [
    {
     "data": {
      "image/png": "[encoded data removed]",
      "text/plain": [
       "<Figure size 640x480 with 1 Axes>"
      ]
     },
     "metadata": {},
     "output_type": "display_data"
    }
   ],
   "source": [
    "tan_plot(a, b)"
   ]
  },
  {
   "cell_type": "markdown",
   "metadata": {},
   "source": [
    "# Graficar Funciones con Python\n",
    "\n",
    "Graficar datos en Python es muy similar al proceso que haces en álgebra lineal: Dado un ejemplo de X valores usas una función para obtener los valores de Y y graficas la intersección de las coordenadas X e Y en el plano cartesiano.\n",
    "\n",
    "En Python usamos:\n",
    "\n",
    "1. El paquete NumPy para obtener los valores de X e Y.\n",
    "2. El módulo Pyplot de la librería Matplotlib para graficar y dibujar la función. "
   ]
  },
  {
   "cell_type": "markdown",
   "metadata": {},
   "source": [
    "Si no tienes datos reales para graficar, puedes usar NumPy para generar algunos valores de muestra, por ejemplo:\n",
    "\n",
    "#### Ejercicio: Generar una lista de valores equidistantes de -3 a 3 con Numpy"
   ]
  },
  {
   "cell_type": "code",
   "execution_count": 27,
   "metadata": {},
   "outputs": [
    {
     "data": {
      "text/plain": [
       "array([-3.        , -2.93939394, -2.87878788, -2.81818182, -2.75757576,\n",
       "       -2.6969697 , -2.63636364, -2.57575758, -2.51515152, -2.45454545,\n",
       "       -2.39393939, -2.33333333, -2.27272727, -2.21212121, -2.15151515,\n",
       "       -2.09090909, -2.03030303, -1.96969697, -1.90909091, -1.84848485,\n",
       "       -1.78787879, -1.72727273, -1.66666667, -1.60606061, -1.54545455,\n",
       "       -1.48484848, -1.42424242, -1.36363636, -1.3030303 , -1.24242424,\n",
       "       -1.18181818, -1.12121212, -1.06060606, -1.        , -0.93939394,\n",
       "       -0.87878788, -0.81818182, -0.75757576, -0.6969697 , -0.63636364,\n",
       "       -0.57575758, -0.51515152, -0.45454545, -0.39393939, -0.33333333,\n",
       "       -0.27272727, -0.21212121, -0.15151515, -0.09090909, -0.03030303,\n",
       "        0.03030303,  0.09090909,  0.15151515,  0.21212121,  0.27272727,\n",
       "        0.33333333,  0.39393939,  0.45454545,  0.51515152,  0.57575758,\n",
       "        0.63636364,  0.6969697 ,  0.75757576,  0.81818182,  0.87878788,\n",
       "        0.93939394,  1.        ,  1.06060606,  1.12121212,  1.18181818,\n",
       "        1.24242424,  1.3030303 ,  1.36363636,  1.42424242,  1.48484848,\n",
       "        1.54545455,  1.60606061,  1.66666667,  1.72727273,  1.78787879,\n",
       "        1.84848485,  1.90909091,  1.96969697,  2.03030303,  2.09090909,\n",
       "        2.15151515,  2.21212121,  2.27272727,  2.33333333,  2.39393939,\n",
       "        2.45454545,  2.51515152,  2.57575758,  2.63636364,  2.6969697 ,\n",
       "        2.75757576,  2.81818182,  2.87878788,  2.93939394,  3.        ])"
      ]
     },
     "execution_count": 27,
     "metadata": {},
     "output_type": "execute_result"
    }
   ],
   "source": [
    "x_axis = np.linspace(-3, 3, 100)\n",
    "x_axis"
   ]
  },
  {
   "cell_type": "markdown",
   "metadata": {},
   "source": [
    "#### Ejercicio: Podemos usar estos valores como \"semilla\" o parámetros X para obtener los valores de Y usando cualquier función de álgebra lineal. \n",
    "\n",
    "Realiza un ejemplo usando la función cuadrática. "
   ]
  },
  {
   "cell_type": "code",
   "execution_count": 28,
   "metadata": {},
   "outputs": [
    {
     "data": {
      "image/png": "[encoded data removed]",
      "text/plain": [
       "<Figure size 640x480 with 1 Axes>"
      ]
     },
     "metadata": {},
     "output_type": "display_data"
    }
   ],
   "source": [
    "x_axis = np.linspace(-3, 3, 100)\n",
    "\n",
    "def square(x): return x**2\n",
    "\n",
    "y_axis = square(x_axis)\n",
    "\n",
    "plt.plot(x_axis, y_axis)\n",
    "plt.title('Quadratic Function')\n",
    "plt.xlabel('x')\n",
    "plt.ylabel('y')\n",
    "plt.grid(True)\n",
    "plt.show()"
   ]
  },
  {
   "cell_type": "markdown",
   "metadata": {},
   "source": [
    "## Las Funciones Elementales en Álgebra Lineal \n",
    "\n",
    "Los patrones de datos puedes ser descritos por medio de funciones algebraicas, y puedes graficar y visualizarlos en gráficos. \n",
    "\n",
    "Los siguientes son llamados en álgebra lineal como \"Funciones Elementales\" y van a cubrir el 95% de tus patrones de datos.\n",
    "\n",
    "![Funciones elementales](https://breathecode.herokuapp.com/v1/media/file/parent-functions-jpg?raw=true)\n",
    "\n",
    "## Graficar Funciones Elementales\n",
    "\n",
    "Aquí hay algunos ejemplos de cómo graficar funciones elementales en álgebra lineal, primero importamos NumPy porque contiene las funciones: \n"
   ]
  },
  {
   "cell_type": "code",
   "execution_count": 29,
   "metadata": {},
   "outputs": [],
   "source": [
    "import numpy as np\n",
    "\n",
    "# Comienza definiendo un eje X simple y el eje Y será dado por nuestra función principal\n",
    "x_axis = np.linspace(-3,3,1000)"
   ]
  },
  {
   "cell_type": "markdown",
   "metadata": {},
   "source": [
    "### Función Cuadrática \n",
    "#### Ejercicio: Define una funcion cuadrática"
   ]
  },
  {
   "cell_type": "code",
   "execution_count": 30,
   "metadata": {},
   "outputs": [
    {
     "data": {
      "image/png": "[encoded data removed]",
      "text/plain": [
       "<Figure size 640x480 with 1 Axes>"
      ]
     },
     "metadata": {},
     "output_type": "display_data"
    }
   ],
   "source": [
    "def square(x): return x**2\n",
    "plt.plot(x_axis, square(x_axis))\n",
    "plt.title('Quadratic Function')\n",
    "plt.xlabel('x')\n",
    "plt.ylabel('y')\n",
    "plt.grid(True)\n",
    "plt.show()"
   ]
  },
  {
   "cell_type": "markdown",
   "metadata": {},
   "source": [
    "### Función Seno\n",
    "#### Ejercicio: Define una funcion Seno"
   ]
  },
  {
   "cell_type": "code",
   "execution_count": 31,
   "metadata": {},
   "outputs": [
    {
     "data": {
      "image/png": "[encoded data removed]",
      "text/plain": [
       "<Figure size 640x480 with 1 Axes>"
      ]
     },
     "metadata": {},
     "output_type": "display_data"
    }
   ],
   "source": [
    "def sen_function(x): return np.sin(x)\n",
    "plt.plot(x_axis, sen_function(x_axis))\n",
    "plt.title('Sine Function')\n",
    "plt.xlabel('x')\n",
    "plt.ylabel('sin(x)')\n",
    "plt.grid(True)\n",
    "plt.show()"
   ]
  },
  {
   "cell_type": "markdown",
   "metadata": {},
   "source": [
    "### Función Exponencial\n",
    "\n",
    "#### Ejercicio: Define una funcion Exponencial"
   ]
  },
  {
   "cell_type": "code",
   "execution_count": 32,
   "metadata": {},
   "outputs": [
    {
     "data": {
      "image/png": "[encoded data removed]",
      "text/plain": [
       "<Figure size 640x480 with 1 Axes>"
      ]
     },
     "metadata": {},
     "output_type": "display_data"
    }
   ],
   "source": [
    "def exponential(x): return np.exp(x)\n",
    "\n",
    "plt.plot(x_axis, exponential(x_axis))\n",
    "plt.title('Exponential Function')\n",
    "plt.xlabel('x')\n",
    "plt.ylabel('exp(x)')\n",
    "plt.grid(True)\n",
    "plt.show()"
   ]
  },
  {
   "cell_type": "markdown",
   "metadata": {},
   "source": [
    "### Función Logarítmica\n",
    "\n",
    "#### Ejercicio: Define una funcion Logatítmica"
   ]
  },
  {
   "cell_type": "code",
   "execution_count": 33,
   "metadata": {},
   "outputs": [
    {
     "name": "stderr",
     "output_type": "stream",
     "text": [
      "C:\\Users\\34620\\AppData\\Local\\Temp\\ipykernel_14956\\3471672863.py:1: RuntimeWarning: invalid value encountered in log\n",
      "  def logarithmic(x): return np.log(x)\n"
     ]
    },
    {
     "data": {
      "image/png": "[encoded data removed]",
      "text/plain": [
       "<Figure size 640x480 with 1 Axes>"
      ]
     },
     "metadata": {},
     "output_type": "display_data"
    }
   ],
   "source": [
    "def logarithmic(x): return np.log(x)\n",
    "\n",
    "plt.plot(x_axis, logarithmic(x_axis))\n",
    "plt.title('Logarithmic Function')\n",
    "plt.xlabel('x')\n",
    "plt.ylabel('log(x)')\n",
    "plt.grid(True)\n",
    "plt.show()"
   ]
  },
  {
   "cell_type": "markdown",
   "metadata": {},
   "source": [
    "### Media y Desviación Estándar \n",
    "\n",
    "$$\\text{mean} = \\mu = \\frac{1}{n}\\sum_{i = 1}^n x_i$$\n",
    "\n",
    "$$\\text{standard deviation} = \\sigma = \\sqrt{\\frac{1}{n}\\sum_{i = 1}^n (x_i - \\mu)^2}$$"
   ]
  },
  {
   "cell_type": "markdown",
   "metadata": {},
   "source": [
    "#### Ejercicio: Obtener la Media de una lista"
   ]
  },
  {
   "cell_type": "code",
   "execution_count": 34,
   "metadata": {},
   "outputs": [
    {
     "name": "stdout",
     "output_type": "stream",
     "text": [
      "7.0\n"
     ]
    }
   ],
   "source": [
    "# Media de una lista\n",
    "x = [3, 5, 7, 9, 11]\n",
    "print(np.mean(x))"
   ]
  },
  {
   "cell_type": "markdown",
   "metadata": {},
   "source": [
    "#### Ejercicio: Obtener Desviación estándar de una lista "
   ]
  },
  {
   "cell_type": "code",
   "execution_count": 35,
   "metadata": {},
   "outputs": [
    {
     "name": "stdout",
     "output_type": "stream",
     "text": [
      "2.8284271247461903\n"
     ]
    }
   ],
   "source": [
    "# Desviación estándar de una lista \n",
    "print(np.std(x))"
   ]
  },
  {
   "cell_type": "markdown",
   "metadata": {},
   "source": [
    "# Introducción a las Matrices\n",
    "En términos generales, una matriz es un arreglo de números que están organizados en filas y columnas.\n",
    "\n",
    "## Matrices y Notación Matricial\n",
    "Una matriz organiza los números en filas y columnas, como esta:\n",
    "\n",
    "\\begin{equation}A = \\begin{bmatrix}\n",
    "  1 & 2 & 3 \\\\\n",
    "  4 & 5 & 6\n",
    " \\end{bmatrix}\n",
    "\\end{equation}\n",
    "\n",
    "Nota que las matrices generalmente se nombran con una letra mayúscula. Nos referimos a los *elementos* de la matriz usando la letra minúscula equivalente con un subíndice que indica la fila y la columna, así:\n",
    "\n",
    "\\begin{equation}A = \\begin{bmatrix}\n",
    "  a_{1,1} & a_{1,2} & a_{1,3} \\\\\n",
    "  a_{2,1} & a_{2,2} & a_{2,3}\n",
    " \\end{bmatrix}\n",
    "\\end{equation}\n",
    "\n"
   ]
  },
  {
   "cell_type": "markdown",
   "metadata": {},
   "source": [
    "#### Ejercicio: Define una matriz con *numpy.**array*** bidimensional\n"
   ]
  },
  {
   "cell_type": "code",
   "execution_count": 36,
   "metadata": {},
   "outputs": [
    {
     "name": "stdout",
     "output_type": "stream",
     "text": [
      "[[1 2 3]\n",
      " [4 5 6]]\n"
     ]
    }
   ],
   "source": [
    "import numpy as np\n",
    "matriz = [[1, 2, 3], [4, 5, 6]]\n",
    "\n",
    "A = np.array(matriz)\n",
    "print(A)"
   ]
  },
  {
   "cell_type": "markdown",
   "metadata": {},
   "source": [
    "#### Ejercicio: Ahora utiliza *numpy.**matrix***, que es una subclase especializada de ***array*** para crear la misma matriz\n"
   ]
  },
  {
   "cell_type": "code",
   "execution_count": 37,
   "metadata": {},
   "outputs": [
    {
     "name": "stdout",
     "output_type": "stream",
     "text": [
      "[[1 2 3]\n",
      " [4 5 6]]\n"
     ]
    }
   ],
   "source": [
    "M = np.matrix(matriz)\n",
    "print(M)"
   ]
  },
  {
   "cell_type": "markdown",
   "metadata": {},
   "source": [
    "Existen algunas diferencias en el comportamiento entre los tipos ***array*** y ***matrix***, especialmente en lo que respecta a la multiplicación (lo exploraremos más adelante). Puedes usar cualquiera de los dos, pero la mayoría de los programadores experimentados en Python que trabajan con vectores y matrices tienden a preferir el tipo ***array*** por coherencia.\n"
   ]
  },
  {
   "cell_type": "markdown",
   "metadata": {},
   "source": [
    "## Operaciones con Matrices\n",
    "Las matrices admiten operaciones aritméticas comunes.\n",
    "### Suma de Matrices\n",
    "Para sumar dos matrices del mismo tamaño, simplemente suma los elementos correspondientes en cada matriz:\n",
    "\\begin{equation}\\begin{bmatrix}1 & 2 & 3 \\\\4 & 5 & 6\\end{bmatrix}+ \\begin{bmatrix}6 & 5 & 4 \\\\3 & 2 & 1\\end{bmatrix} = \\begin{bmatrix}7 & 7 & 7 \\\\7 & 7 & 7\\end{bmatrix}\\end{equation}\n",
    "En este ejemplo, estamos sumando dos matrices (llamémosles ***A*** y ***B***). Cada matriz tiene dos filas de tres columnas (por lo que las describimos como matrices 2x3). Al sumarlas, se crea una nueva matriz de las mismas dimensiones con los valores a<sub>1,1</sub> + b<sub>1,1</sub>, a<sub>1,2</sub> + b<sub>1,2</sub>, a<sub>1,3</sub> + b<sub>1,3</sub>, a<sub>2,1</sub> + b<sub>2,1</sub>, a<sub>2,2</sub> + b<sub>2,2</sub>, y a<sub>2,3</sub> + b<sub>2,3</sub>. En este caso, cada par de elementos correspondientes (1 y 6, 2 y 5, 3 y 4, etc.) suma 7.\n",
    "Intentemos esto con Python:"
   ]
  },
  {
   "cell_type": "markdown",
   "metadata": {},
   "source": [
    "#### Ejercicio: Realiza la suma de matrices con Python"
   ]
  },
  {
   "cell_type": "code",
   "execution_count": 38,
   "metadata": {},
   "outputs": [
    {
     "name": "stdout",
     "output_type": "stream",
     "text": [
      "[[7 7 7]\n",
      " [7 7 7]]\n"
     ]
    }
   ],
   "source": [
    "import numpy as np\n",
    "\n",
    "A = np.array([[1,2,3],\n",
    "              [4,5,6]])\n",
    "B = np.array([[6,5,4],\n",
    "              [3,2,1]])\n",
    "print(A+B) #FIXME"
   ]
  },
  {
   "cell_type": "markdown",
   "metadata": {},
   "source": [
    "### Restando Matrices\n",
    "La resta de matrices funciona de manera similar a la suma de matrices:\n",
    "\n",
    "\\begin{equation}\\begin{bmatrix}1 & 2 & 3 \\\\4 & 5 & 6\\end{bmatrix}- \\begin{bmatrix}6 & 5 & 4 \\\\3 & 2 & 1\\end{bmatrix} = \\begin{bmatrix}-5 & -3 & -1 \\\\1 & 3 & 5\\end{bmatrix}\\end{equation}\n",
    "\n",
    "#### Ejercicio: Realiza esta operacion con Python"
   ]
  },
  {
   "cell_type": "code",
   "execution_count": 39,
   "metadata": {},
   "outputs": [
    {
     "name": "stdout",
     "output_type": "stream",
     "text": [
      "[[-5 -3 -1]\n",
      " [ 1  3  5]]\n"
     ]
    }
   ],
   "source": [
    "import numpy as np\n",
    "\n",
    "A = np.array([[1,2,3],\n",
    "              [4,5,6]])\n",
    "B = np.array([[6,5,4],\n",
    "              [3,2,1]])\n",
    "print (A-B) #FIXME"
   ]
  },
  {
   "cell_type": "markdown",
   "metadata": {},
   "source": [
    "#### Conformabilidad\n",
    "En los ejemplos anteriores, pudimos sumar y restar las matrices, porque los *operandos* (las matrices sobre las que realizamos las operaciones) son ***conformables*** para la operación específica (en este caso, suma o resta). Para ser conformables para la suma y la resta, los operandos deben tener el mismo número de filas y columnas. Hay diferentes requisitos de conformabilidad para otras operaciones, como la multiplicación; los exploraremos más adelante."
   ]
  },
  {
   "cell_type": "markdown",
   "metadata": {},
   "source": [
    "### Matrices Negativas\n",
    "La matriz negativa de una matriz es simplemente una matriz con el signo de cada elemento invertido:\n",
    "\n",
    "\\begin{equation}C = \\begin{bmatrix}-5 & -3 & -1 \\\\1 & 3 & 5\\end{bmatrix}\\end{equation}\n",
    "\n",
    "\\begin{equation}-C = \\begin{bmatrix}5 & 3 & 1 \\\\-1 & -3 & -5\\end{bmatrix}\\end{equation}\n",
    "\n"
   ]
  },
  {
   "cell_type": "markdown",
   "metadata": {},
   "source": [
    "#### Ejercicio:  Imprime la matriz negativa con Python:"
   ]
  },
  {
   "cell_type": "code",
   "execution_count": 40,
   "metadata": {},
   "outputs": [
    {
     "name": "stdout",
     "output_type": "stream",
     "text": [
      "[[-5 -3 -1]\n",
      " [ 1  3  5]]\n",
      "[[ 5  3  1]\n",
      " [-1 -3 -5]]\n"
     ]
    }
   ],
   "source": [
    "import numpy as np\n",
    "\n",
    "C = np.array([[-5,-3,-1],\n",
    "              [1,3,5]])\n",
    "print (C)\n",
    "\n",
    "#Inversa\n",
    "print (-C) #FIXME"
   ]
  },
  {
   "cell_type": "markdown",
   "metadata": {},
   "source": [
    "### Transposición de Matrices\n",
    "Puedes *transponer* una matriz, es decir, intercambiar la orientación de sus filas y columnas. Esto se indica con un superíndice **T**, de la siguiente manera:\n",
    "\n",
    "\\begin{equation}\\begin{bmatrix}1 & 2 & 3 \\\\4 & 5 & 6\\end{bmatrix}^{T} = \\begin{bmatrix}1 & 4\\\\2 & 5\\\\3 & 6 \\end{bmatrix}\\end{equation}\n",
    "\n",
    "En Python, tanto *numpy.**array*** como *numpy.**matrix*** tienen una función **T**:"
   ]
  },
  {
   "cell_type": "code",
   "execution_count": 41,
   "metadata": {},
   "outputs": [
    {
     "name": "stdout",
     "output_type": "stream",
     "text": [
      "[[1 4]\n",
      " [2 5]\n",
      " [3 6]]\n"
     ]
    }
   ],
   "source": [
    "import numpy as np\n",
    "\n",
    "A = np.array([[1,2,3],\n",
    "              [4,5,6]])\n",
    "print(A.T)"
   ]
  },
  {
   "cell_type": "markdown",
   "metadata": {},
   "source": [
    "## Multiplicación de Matrices\n",
    "Multiplicar matrices es un poco más complejo que las operaciones que hemos visto hasta ahora. Hay dos casos que considerar: *multiplicación escalar* (multiplicar una matriz por un solo número) y *producto punto de matrices* (multiplicar una matriz por otra matriz).\n",
    "\n",
    "### Multiplicación Escalar\n",
    "Para multiplicar una matriz por un valor escalar, simplemente multiplicas cada elemento por el escalar para producir una nueva matriz:\n",
    "\n",
    "\\begin{equation}2 \\times \\begin{bmatrix}1 & 2 & 3 \\\\4 & 5 & 6\\end{bmatrix} = \\begin{bmatrix}2 & 4 & 6 \\\\8 & 10 & 12\\end{bmatrix}\\end{equation}\n",
    "\n"
   ]
  },
  {
   "cell_type": "markdown",
   "metadata": {},
   "source": [
    "#### Ejercicio: Multiplicar la matriz por 2 con Python"
   ]
  },
  {
   "cell_type": "code",
   "execution_count": 42,
   "metadata": {},
   "outputs": [
    {
     "name": "stdout",
     "output_type": "stream",
     "text": [
      "[[ 2  4  6]\n",
      " [ 8 10 12]]\n"
     ]
    }
   ],
   "source": [
    "\n",
    "\n",
    "A = np.array([[1,2,3],\n",
    "              [4,5,6]])\n",
    "print(A*2) #FIXME"
   ]
  },
  {
   "cell_type": "markdown",
   "metadata": {},
   "source": [
    "### Producto Punto de Multiplicación de Matrices\n",
    "Para multiplicar dos matrices juntas, necesitas calcular el *producto punto* de filas y columnas. Esto significa multiplicar cada uno de los elementos en cada fila de la primera matriz por cada uno de los elementos en cada columna de la segunda matriz y sumar los resultados. Realizamos esta operación aplicando la regla *RF* - siempre multiplicando ***F***ilas por ***C***olumnas. Para que esto funcione, el número de ***columnas*** en la primera matriz debe ser el mismo que el número de ***filas*** en la segunda matriz para que las matrices sean *conformables* para la operación de producto punto.\n",
    "\n",
    "¿Confuso, verdad?\n",
    "\n",
    "Veamos un ejemplo:\n",
    "\n",
    "\\begin{equation}\\begin{bmatrix}1 & 2 & 3 \\\\4 & 5 & 6\\end{bmatrix} \\cdot \\begin{bmatrix}9 & 8 \\\\ 7 & 6 \\\\ 5 & 4\\end{bmatrix}\\end{equation}\n",
    "\n",
    "Nota que la primera matriz es 2x3, y la segunda matriz es 3x2. Lo importante aquí es que la primera matriz tiene dos filas, y la segunda matriz tiene dos columnas. Para realizar la multiplicación, primero tomamos el producto punto de la primera ***fila*** de la primera matriz (1,2,3) y la primera ***columna*** de la segunda matriz (9,7,5):\n",
    "\n",
    "\\begin{equation}(1,2,3) \\cdot (9,7,5) = (1 \\times 9) + (2 \\times 7) + (3 \\times 5) = 38\\end{equation}\n",
    "\n",
    "En nuestra matriz resultante (que siempre tendrá el mismo número de ***filas*** que la primera matriz y el mismo número de ***columnas*** que la segunda matriz), podemos ingresar esto en el elemento de la primera fila y primera columna:\n",
    "\n",
    "\\begin{equation}\\begin{bmatrix}38 & ?\\\\? & ?\\end{bmatrix} \\end{equation}\n",
    "\n",
    "Ahora podemos tomar el producto punto de la primera fila de la primera matriz y la segunda columna de la segunda matriz:\n",
    "\n",
    "\\begin{equation}(1,2,3) \\cdot (8,6,4) = (1 \\times 8) + (2 \\times 6) + (3 \\times 4) = 32\\end{equation}\n",
    "\n",
    "Agreguemos eso a nuestra matriz resultante en el elemento de la primera fila y segunda columna:\n",
    "\n",
    "\\begin{equation}\\begin{bmatrix}38 & 32\\\\? & ?\\end{bmatrix} \\end{equation}\n",
    "\n",
    "Ahora podemos repetir este proceso para la segunda fila de la primera matriz y la primera columna de la segunda matriz:\n",
    "\n",
    "\\begin{equation}(4,5,6) \\cdot (9,7,5) = (4 \\times 9) + (5 \\times 7) + (6 \\times 5) = 101\\end{equation}\n",
    "\n",
    "Lo que completa el siguiente elemento en el resultado:\n",
    "\n",
    "\\begin{equation}\\begin{bmatrix}38 & 32\\\\101 & ?\\end{bmatrix} \\end{equation}\n",
    "\n",
    "Finalmente, obtenemos el producto punto para la segunda fila de la primera matriz y la segunda columna de la segunda matriz:\n",
    "\n",
    "\\begin{equation}(4,5,6) \\cdot (8,6,4) = (4 \\times 8) + (5 \\times 6) + (6 \\times 4) = 86\\end{equation}\n",
    "\n",
    "Dándonos:\n",
    "\n",
    "\\begin{equation}\\begin{bmatrix}38 & 32\\\\101 & 86\\end{bmatrix} \\end{equation}\n",
    "\n"
   ]
  },
  {
   "cell_type": "markdown",
   "metadata": {},
   "source": [
    "#### Ejercicio: Utiliza la  función *numpy.**dot*** o el operador **@** para multiplicar estas matrices."
   ]
  },
  {
   "cell_type": "code",
   "execution_count": 43,
   "metadata": {},
   "outputs": [
    {
     "name": "stdout",
     "output_type": "stream",
     "text": [
      "[[ 38  32]\n",
      " [101  86]]\n",
      "[[ 38  32]\n",
      " [101  86]]\n"
     ]
    }
   ],
   "source": [
    "import numpy as np\n",
    "\n",
    "A = np.array([[1,2,3],\n",
    "              [4,5,6]])\n",
    "B = np.array([[9,8],\n",
    "              [7,6],\n",
    "              [5,4]])\n",
    "#utiliza numpy.dot\n",
    "print(np.dot(A, B))\n",
    "\n",
    "#utiliza el operador @\n",
    "print(A @ B)"
   ]
  },
  {
   "cell_type": "markdown",
   "metadata": {},
   "source": [
    "## División de Matrices\n",
    "No puedes dividir realmente por una matriz; pero cuando quieres dividir matrices, puedes aprovechar el hecho de que dividir por un número dado es lo mismo que multiplicar por el recíproco de ese número. Por ejemplo:\n",
    "\n",
    "\\begin{equation}6 \\div 3 = \\frac{1}{3}\\times 6 \\end{equation}\n",
    "\n",
    "En este caso, <sup>1</sup>/<sub>3</sub> es el recíproco de 3 (que como fracción es <sup>3</sup>/<sub>1</sub> - \"volteamos\" el numerador y denominador para obtener el recíproco). También puedes escribir <sup>1</sup>/<sub>3</sub> como 3<sup>-1</sup>.\n",
    "\n",
    "### Inversa de una Matriz\n",
    "Para la división de matrices, usamos una idea relacionada: multiplicamos por la *inversa* de una matriz:\n",
    "\n",
    "\\begin{equation}A \\div B = A \\cdot B^{-1}\\end{equation}\n",
    "\n",
    "La inversa de B es B<sup>-1</sup> siempre y cuando la siguiente ecuación sea verdadera:\n",
    "\n",
    "\\begin{equation}B \\cdot B^{-1} = B^{-1} \\cdot B = I\\end{equation}\n",
    "\n",
    "**I**, si lo recuerdas, es una matriz *identidad*; el equivalente matricial de 1.\n",
    "\n",
    "¿Cómo calculas la inversa de una matriz? Para una matriz de 2x2, puedes seguir esta fórmula:\n",
    "\n",
    "\\begin{equation}\\begin{bmatrix}a & b\\\\c & d\\end{bmatrix}^{-1} = \\frac{1}{ad-bc}  \\begin{bmatrix}d & -b\\\\-c & a\\end{bmatrix}\\end{equation}\n",
    "\n",
    "¿Qué sucedió ahí?\n",
    "- Intercambiamos las posiciones de *a* y *d*\n",
    "- Cambiamos los signos de *b* y *c*\n",
    "- Multiplicamos la matriz resultante por 1 sobre el *determinante* de la matriz (*ad-bc*)\n",
    "\n",
    "Intentemos con algunos números reales:\n",
    "\n",
    "\\begin{equation}\\begin{bmatrix}6 & 2\\\\1 & 2\\end{bmatrix}^{-1} = \\frac{1}{(6\\times2)-(2\\times1)}  \\begin{bmatrix}2 & -2\\\\-1 & 6\\end{bmatrix}\\end{equation}\n",
    "\n",
    "Así que:\n",
    "\n",
    "\\begin{equation}\\begin{bmatrix}6 & 2\\\\1 & 2\\end{bmatrix}^{-1} = \\frac{1}{10}  \\begin{bmatrix}2 & -2\\\\-1 & 6\\end{bmatrix}\\end{equation}\n",
    "\n",
    "Lo que nos da el resultado:\n",
    "\n",
    "\\begin{equation}\\begin{bmatrix}6 & 2\\\\1 & 2\\end{bmatrix}^{-1} = \\begin{bmatrix}0.2 & -0.2\\\\-0.1 & 0.6\\end{bmatrix}\\end{equation}\n",
    "\n",
    "Para verificar esto, podemos multiplicar la matriz original por su inversa para ver si obtenemos una matriz identidad. Esto tiene sentido si lo piensas; de la misma manera que 3 x <sup>1</sup>/<sub>3</sub> = 1, una matriz multiplicada por su inversa resulta en una matriz identidad:\n",
    "\n",
    "\\begin{equation}\\begin{bmatrix}6 & 2\\\\1 & 2\\end{bmatrix} \\cdot \\begin{bmatrix}0.2 & -0.2\\\\-0.1 & 0.6\\end{bmatrix} = \\begin{bmatrix}(6\\times0.2)+(2\\times-0.1) & (6\\times-0.2)+(2\\times0.6)\\\\(1\\times0.2)+(2\\times-0.1) & (1\\times-0.2)+(2\\times0.6)\\end{bmatrix} = \\begin{bmatrix}1 & 0\\\\0 & 1\\end{bmatrix}\\end{equation}\n",
    "\n",
    "Ten en cuenta que no todas las matrices tienen una inversa; por ejemplo, si el determinante resulta ser 0, la matriz inversa no está definida.\n",
    "\n"
   ]
  },
  {
   "cell_type": "markdown",
   "metadata": {},
   "source": [
    "#### Ejercicio: Utiliza la funcion *numpy.linalg.**inv*** para obtener la inversa de la matriz:"
   ]
  },
  {
   "cell_type": "code",
   "execution_count": 44,
   "metadata": {},
   "outputs": [
    {
     "name": "stdout",
     "output_type": "stream",
     "text": [
      "[[ 0.2 -0.2]\n",
      " [-0.1  0.6]]\n"
     ]
    }
   ],
   "source": [
    "import numpy as np\n",
    "\n",
    "B = np.array([[6,2],\n",
    "              [1,2]])\n",
    "\n",
    "#obten la inversa\n",
    "print(np.linalg.inv(B))"
   ]
  },
  {
   "cell_type": "markdown",
   "metadata": {},
   "source": [
    "#### Ejercicio: Adicionalmente, el tipo *matrix* tiene un método ***I*** que devuelve la matriz inversa:"
   ]
  },
  {
   "cell_type": "code",
   "execution_count": 45,
   "metadata": {},
   "outputs": [
    {
     "name": "stdout",
     "output_type": "stream",
     "text": [
      "[[ 0.2 -0.2]\n",
      " [-0.1  0.6]]\n"
     ]
    }
   ],
   "source": [
    "import numpy as np\n",
    "\n",
    "B = np.matrix([[6,2],\n",
    "              [1,2]])\n",
    "\n",
    "print(B.I)"
   ]
  },
  {
   "cell_type": "markdown",
   "metadata": {},
   "source": [
    "## Resolviendo Sistemas de Ecuaciones con Matrices\n",
    "Una de las grandes ventajas de las matrices es que nos ayudan a resolver sistemas de ecuaciones. Por ejemplo, consideremos el siguiente sistema de ecuaciones:\n",
    "\n",
    "\\begin{equation}2x + 4y = 18\\end{equation}\n",
    "\\begin{equation}6x + 2y = 34\\end{equation}\n",
    "\n",
    "Podemos escribir esto en forma matricial, de la siguiente manera:\n",
    "\n",
    "\\begin{equation}\\begin{bmatrix}2 & 4\\\\6 & 2\\end{bmatrix} \\cdot \\begin{bmatrix}x\\\\y\\end{bmatrix}=\\begin{bmatrix}18\\\\34\\end{bmatrix}\\end{equation}\n",
    "\n",
    "Observe que las variables (***x*** y ***y***) están dispuestas como una columna en una matriz, la cual se multiplica por una matriz que contiene los coeficientes para producir una matriz que contiene los resultados. Si calcula el producto punto en el lado izquierdo, puede ver claramente que esto representa las ecuaciones originales:\n",
    "\n",
    "\\begin{equation}\\begin{bmatrix}2x + 4y\\\\6x + 2y\\end{bmatrix} =\\begin{bmatrix}18\\\\34\\end{bmatrix}\\end{equation}\n",
    "\n",
    "Ahora,pongamos nombres a nuestras matrices para entender mejor lo que sigue:\n",
    "\n",
    "\\begin{equation}A=\\begin{bmatrix}2 & 4\\\\6 & 2\\end{bmatrix}\\;\\;\\;\\;X=\\begin{bmatrix}x\\\\y\\end{bmatrix}\\;\\;\\;\\;B=\\begin{bmatrix}18\\\\34\\end{bmatrix}\\end{equation}\n",
    "\n",
    "Ya sabemos que ***A &bull; X = B***, lo cual aritméticamente significa que ***X = B &div; A***. Dado que no podemos dividir directamente por una matriz, necesitamos multiplicar por su inversa; así que podemos encontrar los valores para nuestras variables (*X*) de esta manera: ***X = A<sup>-1</sup> &bull; B***\n",
    "\n",
    "Por lo tanto, primero necesitamos la inversa de A:\n",
    "\n",
    "\\begin{equation}\\begin{bmatrix}2 & 4\\\\6 & 2\\end{bmatrix}^{-1} = \\frac{1}{(2\\times2)-(4\\times6)}  \\begin{bmatrix}2 & -4\\\\-6 & 2\\end{bmatrix}\\end{equation}\n",
    "\n",
    "\\begin{equation}= \\frac{1}{-20}  \\begin{bmatrix}2 & -4\\\\-6 & 2\\end{bmatrix}\\end{equation}\n",
    "\n",
    "\\begin{equation}=\\begin{bmatrix}-0.1 & 0.2\\\\0.3 & -0.1\\end{bmatrix}\\end{equation}\n",
    "\n",
    "Luego simplemente multiplicamos esto con B:\n",
    "\n",
    "\\begin{equation}X = \\begin{bmatrix}-0.1 & 0.2\\\\0.3 & -0.1\\end{bmatrix} \\cdot \\begin{bmatrix}18\\\\34\\end{bmatrix}\\end{equation}\n",
    "\n",
    "\\begin{equation}X = \\begin{bmatrix}(-0.1 \\times 18)+(0.2 \\times 34)\\\\(0.3\\times18)+(-0.1\\times34)\\end{bmatrix}\\end{equation}\n",
    "\n",
    "\\begin{equation}X = \\begin{bmatrix}5\\\\2\\end{bmatrix}\\end{equation}\n",
    "\n",
    "La matriz resultante (*X*) contiene los valores para nuestras variables *x* y *y*, y podemos verificarlos sustituyéndolos en las ecuaciones originales:\n",
    "\n",
    "\\begin{equation}(2\\times5) + (4\\times2) = 18\\end{equation}\n",
    "\\begin{equation}(6\\times5) + (2\\times2) = 34\\end{equation}\n",
    "\n",
    "Estas, por supuesto, se simplifican a:\n",
    "\n",
    "\\begin{equation}10 + 8 = 18\\end{equation}\n",
    "\\begin{equation}30 + 4 = 34\\end{equation}\n",
    "\n",
    "Por lo tanto, los valores de nuestras variables son correctos.\n",
    "\n"
   ]
  },
  {
   "cell_type": "markdown",
   "metadata": {},
   "source": [
    "#### Ejercicio: Realiza esta operacion con Python utilizando la funcion linalg.inv"
   ]
  },
  {
   "cell_type": "code",
   "execution_count": 46,
   "metadata": {},
   "outputs": [
    {
     "name": "stdout",
     "output_type": "stream",
     "text": [
      "[[5.]\n",
      " [2.]]\n"
     ]
    }
   ],
   "source": [
    "import numpy as np\n",
    "\n",
    "A = np.array([[2, 4],\n",
    "              [6, 2]])\n",
    "\n",
    "B = np.array([[18],\n",
    "              [34]])\n",
    "\n",
    "C = np.linalg.inv(A) @ B\n",
    "\n",
    "print(C)"
   ]
  },
  {
   "cell_type": "code",
   "execution_count": null,
   "metadata": {},
   "outputs": [],
   "source": []
  }
 ],
 "metadata": {
  "colab": {
   "provenance": []
  },
  "kernelspec": {
   "display_name": ".venv",
   "language": "python",
   "name": "python3"
  },
  "language_info": {
   "codemirror_mode": {
    "name": "ipython",
    "version": 3
   },
   "file_extension": ".py",
   "mimetype": "text/x-python",
   "name": "python",
   "nbconvert_exporter": "python",
   "pygments_lexer": "ipython3",
   "version": "3.12.7"
  }
 },
 "nbformat": 4,
 "nbformat_minor": 4
}
