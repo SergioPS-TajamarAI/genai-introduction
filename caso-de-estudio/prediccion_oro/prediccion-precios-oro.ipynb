{
 "cells": [
  {
   "cell_type": "markdown",
   "id": "fd00982b",
   "metadata": {},
   "source": [
    "# Caso de Estudio: Predicción del Precio del Oro con Redes LSTM\n",
    "Este notebook implementa el análisis y modelo descrito en el markdown adjunto."
   ]
  },
  {
   "cell_type": "markdown",
   "id": "0a23877e",
   "metadata": {},
   "source": [
    "## 1. Business Case Discovery\n",
    "### 1.1 Contexto del Negocio\n",
    "La empresa Commodity Analytics busca optimizar estrategias de inversión en metales preciosos."
   ]
  },
  {
   "cell_type": "markdown",
   "id": "d2914d0d",
   "metadata": {},
   "source": [
    "## 2. Data Processing\n"
   ]
  },
  {
   "cell_type": "markdown",
   "id": "7afa32b3",
   "metadata": {},
   "source": [
    "### Importing Required Libraries\n",
    "This cell imports the necessary libraries for data analysis and downloads historical data for gold, DXY, bonds, and TIP from Yahoo Finance. It also processes the data to create derived features and technical indicators."
   ]
  },
  {
   "cell_type": "code",
   "execution_count": 1,
   "id": "d4948134",
   "metadata": {},
   "outputs": [
    {
     "name": "stdout",
     "output_type": "stream",
     "text": [
      "YF.download() has changed argument auto_adjust default to True\n"
     ]
    },
    {
     "name": "stderr",
     "output_type": "stream",
     "text": [
      "[*********************100%***********************]  1 of 1 completed\n",
      "\n",
      "[*********************100%***********************]  1 of 1 completed\n",
      "\n",
      "[*********************100%***********************]  1 of 1 completed\n",
      "\n",
      "[*********************100%***********************]  1 of 1 completed\n",
      "\n"
     ]
    },
    {
     "data": {
      "text/html": [
       "<div>\n",
       "<style scoped>\n",
       "    .dataframe tbody tr th:only-of-type {\n",
       "        vertical-align: middle;\n",
       "    }\n",
       "\n",
       "    .dataframe tbody tr th {\n",
       "        vertical-align: top;\n",
       "    }\n",
       "\n",
       "    .dataframe thead th {\n",
       "        text-align: right;\n",
       "    }\n",
       "</style>\n",
       "<table border=\"1\" class=\"dataframe\">\n",
       "  <thead>\n",
       "    <tr style=\"text-align: right;\">\n",
       "      <th></th>\n",
       "      <th>Oro</th>\n",
       "      <th>DXY</th>\n",
       "      <th>Bonos</th>\n",
       "      <th>TIP</th>\n",
       "      <th>Ratio_Oro_DXY</th>\n",
       "      <th>Inflacion_implicita</th>\n",
       "      <th>Tasa_real</th>\n",
       "      <th>SMA200</th>\n",
       "      <th>Bollinger_up</th>\n",
       "      <th>Bollinger_down</th>\n",
       "    </tr>\n",
       "    <tr>\n",
       "      <th>Date</th>\n",
       "      <th></th>\n",
       "      <th></th>\n",
       "      <th></th>\n",
       "      <th></th>\n",
       "      <th></th>\n",
       "      <th></th>\n",
       "      <th></th>\n",
       "      <th></th>\n",
       "      <th></th>\n",
       "      <th></th>\n",
       "    </tr>\n",
       "  </thead>\n",
       "  <tbody>\n",
       "    <tr>\n",
       "      <th>2010-10-19</th>\n",
       "      <td>1335.099976</td>\n",
       "      <td>78.180000</td>\n",
       "      <td>2.475</td>\n",
       "      <td>78.090248</td>\n",
       "      <td>17.077257</td>\n",
       "      <td>0.000537</td>\n",
       "      <td>2.474463</td>\n",
       "      <td>1189.230999</td>\n",
       "      <td>1388.590284</td>\n",
       "      <td>1265.079699</td>\n",
       "    </tr>\n",
       "    <tr>\n",
       "      <th>2010-10-20</th>\n",
       "      <td>1343.300049</td>\n",
       "      <td>77.169998</td>\n",
       "      <td>2.470</td>\n",
       "      <td>78.069283</td>\n",
       "      <td>17.407025</td>\n",
       "      <td>-0.000268</td>\n",
       "      <td>2.470269</td>\n",
       "      <td>1190.358999</td>\n",
       "      <td>1386.895931</td>\n",
       "      <td>1273.864054</td>\n",
       "    </tr>\n",
       "    <tr>\n",
       "      <th>2010-10-21</th>\n",
       "      <td>1324.699951</td>\n",
       "      <td>77.419998</td>\n",
       "      <td>2.531</td>\n",
       "      <td>78.069283</td>\n",
       "      <td>17.110566</td>\n",
       "      <td>0.000000</td>\n",
       "      <td>2.531000</td>\n",
       "      <td>1191.391999</td>\n",
       "      <td>1385.475709</td>\n",
       "      <td>1278.734277</td>\n",
       "    </tr>\n",
       "    <tr>\n",
       "      <th>2010-10-22</th>\n",
       "      <td>1324.400024</td>\n",
       "      <td>77.470001</td>\n",
       "      <td>2.563</td>\n",
       "      <td>78.090248</td>\n",
       "      <td>17.095650</td>\n",
       "      <td>0.000269</td>\n",
       "      <td>2.562731</td>\n",
       "      <td>1192.334499</td>\n",
       "      <td>1384.112541</td>\n",
       "      <td>1283.107442</td>\n",
       "    </tr>\n",
       "    <tr>\n",
       "      <th>2010-10-25</th>\n",
       "      <td>1338.300049</td>\n",
       "      <td>77.099998</td>\n",
       "      <td>2.554</td>\n",
       "      <td>78.327675</td>\n",
       "      <td>17.357978</td>\n",
       "      <td>0.003040</td>\n",
       "      <td>2.550959</td>\n",
       "      <td>1193.360499</td>\n",
       "      <td>1383.037908</td>\n",
       "      <td>1288.412080</td>\n",
       "    </tr>\n",
       "  </tbody>\n",
       "</table>\n",
       "</div>"
      ],
      "text/plain": [
       "                    Oro        DXY  Bonos        TIP  Ratio_Oro_DXY  \\\n",
       "Date                                                                  \n",
       "2010-10-19  1335.099976  78.180000  2.475  78.090248      17.077257   \n",
       "2010-10-20  1343.300049  77.169998  2.470  78.069283      17.407025   \n",
       "2010-10-21  1324.699951  77.419998  2.531  78.069283      17.110566   \n",
       "2010-10-22  1324.400024  77.470001  2.563  78.090248      17.095650   \n",
       "2010-10-25  1338.300049  77.099998  2.554  78.327675      17.357978   \n",
       "\n",
       "            Inflacion_implicita  Tasa_real       SMA200  Bollinger_up  \\\n",
       "Date                                                                    \n",
       "2010-10-19             0.000537   2.474463  1189.230999   1388.590284   \n",
       "2010-10-20            -0.000268   2.470269  1190.358999   1386.895931   \n",
       "2010-10-21             0.000000   2.531000  1191.391999   1385.475709   \n",
       "2010-10-22             0.000269   2.562731  1192.334499   1384.112541   \n",
       "2010-10-25             0.003040   2.550959  1193.360499   1383.037908   \n",
       "\n",
       "            Bollinger_down  \n",
       "Date                        \n",
       "2010-10-19     1265.079699  \n",
       "2010-10-20     1273.864054  \n",
       "2010-10-21     1278.734277  \n",
       "2010-10-22     1283.107442  \n",
       "2010-10-25     1288.412080  "
      ]
     },
     "execution_count": 1,
     "metadata": {},
     "output_type": "execute_result"
    }
   ],
   "source": [
    "import yfinance as yf\n",
    "import pandas as pd\n",
    "import numpy as np\n",
    "\n",
    "# Descargar datos históricos desde Yahoo Finance\n",
    "oro = yf.download(\"GC=F\", start=\"2010-01-01\")\n",
    "dxy = yf.download(\"DX-Y.NYB\", start=\"2010-01-01\")\n",
    "bonos = yf.download(\"^TNX\", start=\"2010-01-01\")\n",
    "tip = yf.download(\"TIP\", start=\"2010-01-01\")\n",
    "\n",
    "# Unión de datasets\n",
    "df = pd.concat([oro['Close'], dxy['Close'], bonos['Close'], tip['Close']], axis=1).dropna()\n",
    "df.columns = ['Oro', 'DXY', 'Bonos', 'TIP']\n",
    "\n",
    "# Características derivadas\n",
    "df['Ratio_Oro_DXY'] = df['Oro'] / df['DXY']\n",
    "df['Inflacion_implicita'] = df['TIP'].pct_change()\n",
    "df['Tasa_real'] = df['Bonos'] - df['Inflacion_implicita']\n",
    "\n",
    "# Variables técnicas\n",
    "df['SMA200'] = df['Oro'].rolling(window=200).mean()\n",
    "df['Bollinger_up'] = df['Oro'].rolling(window=20).mean() + 2*df['Oro'].rolling(window=20).std()\n",
    "df['Bollinger_down'] = df['Oro'].rolling(window=20).mean() - 2*df['Oro'].rolling(window=20).std()\n",
    "\n",
    "df = df.dropna()\n",
    "df.head()"
   ]
  },
  {
   "cell_type": "markdown",
   "id": "270ce8f2",
   "metadata": {},
   "source": [
    "### Temporal Window\n",
    "This cell normalizes the data using a robust scaler and prepares it for time series prediction by creating a TimeseriesGenerator."
   ]
  },
  {
   "cell_type": "code",
   "execution_count": 2,
   "id": "aa817462",
   "metadata": {},
   "outputs": [
    {
     "name": "stdout",
     "output_type": "stream",
     "text": [
      "Input shape: (32, 90, 10)\n",
      "Target shape: (32,)\n"
     ]
    }
   ],
   "source": [
    "from tensorflow.keras.preprocessing.sequence import TimeseriesGenerator\n",
    "from sklearn.preprocessing import RobustScaler\n",
    "\n",
    "# Normalización robusta de los datos\n",
    "scaler = RobustScaler()\n",
    "data_scaled = scaler.fit_transform(df)\n",
    "\n",
    "# Ajustar los datos para el horizonte de predicción\n",
    "look_back = 90  # 90 días de datos históricos\n",
    "horizon = 5     # Predecir 5 días futuros\n",
    "\n",
    "# Crear el generador de series temporales\n",
    "generator = TimeseriesGenerator(\n",
    "    data_scaled,  # Datos normalizados\n",
    "    targets=data_scaled[:, 0],  # Predecir solo el precio del oro (columna 0)\n",
    "    length=look_back,  # Ventana histórica\n",
    "    sampling_rate=1,  # Usar cada día\n",
    "    stride=1,  # Sin saltos\n",
    "    batch_size=32,  # Tamaño del lote\n",
    "    end_index=len(data_scaled) - horizon - 1,  # Evitar target leakage\n",
    "    shuffle=True  # Mezclar las secuencias\n",
    ")\n",
    "\n",
    "\n",
    "#Ejemplo de secuencia resultante\n",
    "X_sample, y_sample = generator[0]\n",
    "print(f\"Input shape: {X_sample.shape}\")  # (batch, 90 días, 5 features)\n",
    "print(f\"Target shape: {y_sample.shape}\") # (batch, 5 días a predecir)"
   ]
  },
  {
   "cell_type": "markdown",
   "id": "73c670ec",
   "metadata": {},
   "source": [
    "## 3. Model Planning\n",
    "### 3.1 Definición del Problema"
   ]
  },
  {
   "cell_type": "markdown",
   "id": "a3977f67",
   "metadata": {},
   "source": [
    "### Problem Definition\n",
    "This cell defines the problem by preparing the data for training, validation, and testing. It splits the data into training, validation, and test sets."
   ]
  },
  {
   "cell_type": "code",
   "execution_count": 3,
   "id": "1e118fe8",
   "metadata": {},
   "outputs": [
    {
     "name": "stdout",
     "output_type": "stream",
     "text": [
      "(3554, 90, 10) (3554, 5)\n"
     ]
    }
   ],
   "source": [
    "from sklearn.preprocessing import RobustScaler\n",
    "from tensorflow.keras.preprocessing.sequence import TimeseriesGenerator\n",
    "import numpy as np\n",
    "\n",
    "# — your data —\n",
    "scaler = RobustScaler()\n",
    "data_scaled = scaler.fit_transform(df)\n",
    "\n",
    "look_back = 90\n",
    "horizon   = 5\n",
    "\n",
    "# you can still build X/Y manually…\n",
    "X, Y = [], []\n",
    "for i in range(len(data_scaled) - look_back - horizon):\n",
    "    X.append(data_scaled[i : i + look_back])\n",
    "    Y.append(data_scaled[i + look_back : i + look_back + horizon, 0])\n",
    "\n",
    "X, Y = np.array(X), np.array(Y)\n",
    "print(X.shape, Y.shape)\n",
    "\n",
    "# …or use TimeseriesGenerator to do exactly that:\n",
    "gen = TimeseriesGenerator(\n",
    "    data_scaled,                  # full multivariate array\n",
    "    data_scaled[:, 0],            # target series (gold price)\n",
    "    length=look_back,\n",
    "    sampling_rate=1,\n",
    "    stride=1,\n",
    "    start_index=0,\n",
    "    end_index=None,\n",
    "    shuffle=False,\n",
    "    reverse=False,\n",
    "    batch_size=32\n",
    ")"
   ]
  },
  {
   "cell_type": "markdown",
   "id": "5d8b5572",
   "metadata": {},
   "source": [
    "### Model Architecture\n",
    "This cell defines the architecture of the LSTM model, including layers for LSTM, dropout, and dense output."
   ]
  },
  {
   "cell_type": "code",
   "execution_count": 4,
   "id": "77299022",
   "metadata": {},
   "outputs": [],
   "source": [
    "\n",
    "\n",
    "split_train = int(len(X) * 0.7)\n",
    "split_val = int(len(X) * 0.85)\n",
    "\n",
    "X_train, Y_train = X[:split_train], Y[:split_train]\n",
    "X_val, Y_val = X[split_train:split_val], Y[split_train:split_val]\n",
    "X_test, Y_test = X[split_val:], Y[split_val:]\n",
    "\n"
   ]
  },
  {
   "cell_type": "code",
   "execution_count": 5,
   "id": "3c7dcae4",
   "metadata": {},
   "outputs": [
    {
     "name": "stderr",
     "output_type": "stream",
     "text": [
      "c:\\Users\\sergi\\Desktop\\MasterAI\\GenAI_Dev\\repo\\ia-generativa-desarrollo\\.venv\\Lib\\site-packages\\keras\\src\\layers\\rnn\\rnn.py:200: UserWarning: Do not pass an `input_shape`/`input_dim` argument to a layer. When using Sequential models, prefer using an `Input(shape)` object as the first layer in the model instead.\n",
      "  super().__init__(**kwargs)\n"
     ]
    },
    {
     "data": {
      "text/html": [
       "<pre style=\"white-space:pre;overflow-x:auto;line-height:normal;font-family:Menlo,'DejaVu Sans Mono',consolas,'Courier New',monospace\"><span style=\"font-weight: bold\">Model: \"sequential\"</span>\n",
       "</pre>\n"
      ],
      "text/plain": [
       "\u001b[1mModel: \"sequential\"\u001b[0m\n"
      ]
     },
     "metadata": {},
     "output_type": "display_data"
    },
    {
     "data": {
      "text/html": [
       "<pre style=\"white-space:pre;overflow-x:auto;line-height:normal;font-family:Menlo,'DejaVu Sans Mono',consolas,'Courier New',monospace\">┏━━━━━━━━━━━━━━━━━━━━━━━━━━━━━━━━━┳━━━━━━━━━━━━━━━━━━━━━━━━┳━━━━━━━━━━━━━━━┓\n",
       "┃<span style=\"font-weight: bold\"> Layer (type)                    </span>┃<span style=\"font-weight: bold\"> Output Shape           </span>┃<span style=\"font-weight: bold\">       Param # </span>┃\n",
       "┡━━━━━━━━━━━━━━━━━━━━━━━━━━━━━━━━━╇━━━━━━━━━━━━━━━━━━━━━━━━╇━━━━━━━━━━━━━━━┩\n",
       "│ lstm (<span style=\"color: #0087ff; text-decoration-color: #0087ff\">LSTM</span>)                     │ (<span style=\"color: #00d7ff; text-decoration-color: #00d7ff\">None</span>, <span style=\"color: #00af00; text-decoration-color: #00af00\">90</span>, <span style=\"color: #00af00; text-decoration-color: #00af00\">192</span>)        │       <span style=\"color: #00af00; text-decoration-color: #00af00\">155,904</span> │\n",
       "├─────────────────────────────────┼────────────────────────┼───────────────┤\n",
       "│ dropout (<span style=\"color: #0087ff; text-decoration-color: #0087ff\">Dropout</span>)               │ (<span style=\"color: #00d7ff; text-decoration-color: #00d7ff\">None</span>, <span style=\"color: #00af00; text-decoration-color: #00af00\">90</span>, <span style=\"color: #00af00; text-decoration-color: #00af00\">192</span>)        │             <span style=\"color: #00af00; text-decoration-color: #00af00\">0</span> │\n",
       "├─────────────────────────────────┼────────────────────────┼───────────────┤\n",
       "│ lstm_1 (<span style=\"color: #0087ff; text-decoration-color: #0087ff\">LSTM</span>)                   │ (<span style=\"color: #00d7ff; text-decoration-color: #00d7ff\">None</span>, <span style=\"color: #00af00; text-decoration-color: #00af00\">96</span>)             │       <span style=\"color: #00af00; text-decoration-color: #00af00\">110,976</span> │\n",
       "├─────────────────────────────────┼────────────────────────┼───────────────┤\n",
       "│ dense (<span style=\"color: #0087ff; text-decoration-color: #0087ff\">Dense</span>)                   │ (<span style=\"color: #00d7ff; text-decoration-color: #00d7ff\">None</span>, <span style=\"color: #00af00; text-decoration-color: #00af00\">5</span>)              │           <span style=\"color: #00af00; text-decoration-color: #00af00\">485</span> │\n",
       "└─────────────────────────────────┴────────────────────────┴───────────────┘\n",
       "</pre>\n"
      ],
      "text/plain": [
       "┏━━━━━━━━━━━━━━━━━━━━━━━━━━━━━━━━━┳━━━━━━━━━━━━━━━━━━━━━━━━┳━━━━━━━━━━━━━━━┓\n",
       "┃\u001b[1m \u001b[0m\u001b[1mLayer (type)                   \u001b[0m\u001b[1m \u001b[0m┃\u001b[1m \u001b[0m\u001b[1mOutput Shape          \u001b[0m\u001b[1m \u001b[0m┃\u001b[1m \u001b[0m\u001b[1m      Param #\u001b[0m\u001b[1m \u001b[0m┃\n",
       "┡━━━━━━━━━━━━━━━━━━━━━━━━━━━━━━━━━╇━━━━━━━━━━━━━━━━━━━━━━━━╇━━━━━━━━━━━━━━━┩\n",
       "│ lstm (\u001b[38;5;33mLSTM\u001b[0m)                     │ (\u001b[38;5;45mNone\u001b[0m, \u001b[38;5;34m90\u001b[0m, \u001b[38;5;34m192\u001b[0m)        │       \u001b[38;5;34m155,904\u001b[0m │\n",
       "├─────────────────────────────────┼────────────────────────┼───────────────┤\n",
       "│ dropout (\u001b[38;5;33mDropout\u001b[0m)               │ (\u001b[38;5;45mNone\u001b[0m, \u001b[38;5;34m90\u001b[0m, \u001b[38;5;34m192\u001b[0m)        │             \u001b[38;5;34m0\u001b[0m │\n",
       "├─────────────────────────────────┼────────────────────────┼───────────────┤\n",
       "│ lstm_1 (\u001b[38;5;33mLSTM\u001b[0m)                   │ (\u001b[38;5;45mNone\u001b[0m, \u001b[38;5;34m96\u001b[0m)             │       \u001b[38;5;34m110,976\u001b[0m │\n",
       "├─────────────────────────────────┼────────────────────────┼───────────────┤\n",
       "│ dense (\u001b[38;5;33mDense\u001b[0m)                   │ (\u001b[38;5;45mNone\u001b[0m, \u001b[38;5;34m5\u001b[0m)              │           \u001b[38;5;34m485\u001b[0m │\n",
       "└─────────────────────────────────┴────────────────────────┴───────────────┘\n"
      ]
     },
     "metadata": {},
     "output_type": "display_data"
    },
    {
     "data": {
      "text/html": [
       "<pre style=\"white-space:pre;overflow-x:auto;line-height:normal;font-family:Menlo,'DejaVu Sans Mono',consolas,'Courier New',monospace\"><span style=\"font-weight: bold\"> Total params: </span><span style=\"color: #00af00; text-decoration-color: #00af00\">267,365</span> (1.02 MB)\n",
       "</pre>\n"
      ],
      "text/plain": [
       "\u001b[1m Total params: \u001b[0m\u001b[38;5;34m267,365\u001b[0m (1.02 MB)\n"
      ]
     },
     "metadata": {},
     "output_type": "display_data"
    },
    {
     "data": {
      "text/html": [
       "<pre style=\"white-space:pre;overflow-x:auto;line-height:normal;font-family:Menlo,'DejaVu Sans Mono',consolas,'Courier New',monospace\"><span style=\"font-weight: bold\"> Trainable params: </span><span style=\"color: #00af00; text-decoration-color: #00af00\">267,365</span> (1.02 MB)\n",
       "</pre>\n"
      ],
      "text/plain": [
       "\u001b[1m Trainable params: \u001b[0m\u001b[38;5;34m267,365\u001b[0m (1.02 MB)\n"
      ]
     },
     "metadata": {},
     "output_type": "display_data"
    },
    {
     "data": {
      "text/html": [
       "<pre style=\"white-space:pre;overflow-x:auto;line-height:normal;font-family:Menlo,'DejaVu Sans Mono',consolas,'Courier New',monospace\"><span style=\"font-weight: bold\"> Non-trainable params: </span><span style=\"color: #00af00; text-decoration-color: #00af00\">0</span> (0.00 B)\n",
       "</pre>\n"
      ],
      "text/plain": [
       "\u001b[1m Non-trainable params: \u001b[0m\u001b[38;5;34m0\u001b[0m (0.00 B)\n"
      ]
     },
     "metadata": {},
     "output_type": "display_data"
    }
   ],
   "source": [
    "\n",
    "\n",
    "from keras.models import Sequential\n",
    "from keras.layers import LSTM, Dense, Dropout\n",
    "\n",
    "model = Sequential([\n",
    "    LSTM(192, return_sequences=True, input_shape=(look_back, X.shape[2])),\n",
    "    Dropout(0.35),\n",
    "    LSTM(96),\n",
    "    Dense(horizon)\n",
    "])\n",
    "\n",
    "model.compile(optimizer='adam', loss='mse', metrics=['mae'])\n",
    "model.summary()\n",
    "\n"
   ]
  },
  {
   "cell_type": "markdown",
   "id": "0f9b51ab",
   "metadata": {},
   "source": [
    "### Model Training\n",
    "This cell trains the LSTM model using the training data and validates it using the validation data."
   ]
  },
  {
   "cell_type": "code",
   "execution_count": 6,
   "id": "5b006275",
   "metadata": {},
   "outputs": [
    {
     "name": "stdout",
     "output_type": "stream",
     "text": [
      "Epoch 1/50\n",
      "\u001b[1m78/78\u001b[0m \u001b[32m━━━━━━━━━━━━━━━━━━━━\u001b[0m\u001b[37m\u001b[0m \u001b[1m19s\u001b[0m 187ms/step - loss: 0.0348 - mae: 0.1240 - val_loss: 0.0258 - val_mae: 0.1247\n",
      "Epoch 2/50\n",
      "\u001b[1m78/78\u001b[0m \u001b[32m━━━━━━━━━━━━━━━━━━━━\u001b[0m\u001b[37m\u001b[0m \u001b[1m19s\u001b[0m 187ms/step - loss: 0.0348 - mae: 0.1240 - val_loss: 0.0258 - val_mae: 0.1247\n",
      "Epoch 2/50\n",
      "\u001b[1m78/78\u001b[0m \u001b[32m━━━━━━━━━━━━━━━━━━━━\u001b[0m\u001b[37m\u001b[0m \u001b[1m15s\u001b[0m 188ms/step - loss: 0.0050 - mae: 0.0528 - val_loss: 0.0205 - val_mae: 0.1126\n",
      "Epoch 3/50\n",
      "\u001b[1m78/78\u001b[0m \u001b[32m━━━━━━━━━━━━━━━━━━━━\u001b[0m\u001b[37m\u001b[0m \u001b[1m15s\u001b[0m 188ms/step - loss: 0.0050 - mae: 0.0528 - val_loss: 0.0205 - val_mae: 0.1126\n",
      "Epoch 3/50\n",
      "\u001b[1m78/78\u001b[0m \u001b[32m━━━━━━━━━━━━━━━━━━━━\u001b[0m\u001b[37m\u001b[0m \u001b[1m15s\u001b[0m 189ms/step - loss: 0.0043 - mae: 0.0496 - val_loss: 0.0247 - val_mae: 0.1260\n",
      "Epoch 4/50\n",
      "\u001b[1m78/78\u001b[0m \u001b[32m━━━━━━━━━━━━━━━━━━━━\u001b[0m\u001b[37m\u001b[0m \u001b[1m15s\u001b[0m 189ms/step - loss: 0.0043 - mae: 0.0496 - val_loss: 0.0247 - val_mae: 0.1260\n",
      "Epoch 4/50\n",
      "\u001b[1m78/78\u001b[0m \u001b[32m━━━━━━━━━━━━━━━━━━━━\u001b[0m\u001b[37m\u001b[0m \u001b[1m15s\u001b[0m 186ms/step - loss: 0.0041 - mae: 0.0478 - val_loss: 0.0175 - val_mae: 0.1036\n",
      "Epoch 5/50\n",
      "\u001b[1m78/78\u001b[0m \u001b[32m━━━━━━━━━━━━━━━━━━━━\u001b[0m\u001b[37m\u001b[0m \u001b[1m15s\u001b[0m 186ms/step - loss: 0.0041 - mae: 0.0478 - val_loss: 0.0175 - val_mae: 0.1036\n",
      "Epoch 5/50\n",
      "\u001b[1m78/78\u001b[0m \u001b[32m━━━━━━━━━━━━━━━━━━━━\u001b[0m\u001b[37m\u001b[0m \u001b[1m15s\u001b[0m 185ms/step - loss: 0.0040 - mae: 0.0471 - val_loss: 0.0140 - val_mae: 0.0914\n",
      "Epoch 6/50\n",
      "\u001b[1m78/78\u001b[0m \u001b[32m━━━━━━━━━━━━━━━━━━━━\u001b[0m\u001b[37m\u001b[0m \u001b[1m15s\u001b[0m 185ms/step - loss: 0.0040 - mae: 0.0471 - val_loss: 0.0140 - val_mae: 0.0914\n",
      "Epoch 6/50\n",
      "\u001b[1m78/78\u001b[0m \u001b[32m━━━━━━━━━━━━━━━━━━━━\u001b[0m\u001b[37m\u001b[0m \u001b[1m16s\u001b[0m 205ms/step - loss: 0.0038 - mae: 0.0450 - val_loss: 0.0176 - val_mae: 0.1017\n",
      "Epoch 7/50\n",
      "\u001b[1m78/78\u001b[0m \u001b[32m━━━━━━━━━━━━━━━━━━━━\u001b[0m\u001b[37m\u001b[0m \u001b[1m16s\u001b[0m 205ms/step - loss: 0.0038 - mae: 0.0450 - val_loss: 0.0176 - val_mae: 0.1017\n",
      "Epoch 7/50\n",
      "\u001b[1m78/78\u001b[0m \u001b[32m━━━━━━━━━━━━━━━━━━━━\u001b[0m\u001b[37m\u001b[0m \u001b[1m15s\u001b[0m 190ms/step - loss: 0.0037 - mae: 0.0454 - val_loss: 0.0144 - val_mae: 0.0930\n",
      "Epoch 8/50\n",
      "\u001b[1m78/78\u001b[0m \u001b[32m━━━━━━━━━━━━━━━━━━━━\u001b[0m\u001b[37m\u001b[0m \u001b[1m15s\u001b[0m 190ms/step - loss: 0.0037 - mae: 0.0454 - val_loss: 0.0144 - val_mae: 0.0930\n",
      "Epoch 8/50\n",
      "\u001b[1m78/78\u001b[0m \u001b[32m━━━━━━━━━━━━━━━━━━━━\u001b[0m\u001b[37m\u001b[0m \u001b[1m14s\u001b[0m 185ms/step - loss: 0.0035 - mae: 0.0435 - val_loss: 0.0166 - val_mae: 0.0981\n",
      "Epoch 9/50\n",
      "\u001b[1m78/78\u001b[0m \u001b[32m━━━━━━━━━━━━━━━━━━━━\u001b[0m\u001b[37m\u001b[0m \u001b[1m14s\u001b[0m 185ms/step - loss: 0.0035 - mae: 0.0435 - val_loss: 0.0166 - val_mae: 0.0981\n",
      "Epoch 9/50\n",
      "\u001b[1m78/78\u001b[0m \u001b[32m━━━━━━━━━━━━━━━━━━━━\u001b[0m\u001b[37m\u001b[0m \u001b[1m15s\u001b[0m 194ms/step - loss: 0.0031 - mae: 0.0419 - val_loss: 0.0105 - val_mae: 0.0799\n",
      "Epoch 10/50\n",
      "\u001b[1m78/78\u001b[0m \u001b[32m━━━━━━━━━━━━━━━━━━━━\u001b[0m\u001b[37m\u001b[0m \u001b[1m15s\u001b[0m 194ms/step - loss: 0.0031 - mae: 0.0419 - val_loss: 0.0105 - val_mae: 0.0799\n",
      "Epoch 10/50\n",
      "\u001b[1m78/78\u001b[0m \u001b[32m━━━━━━━━━━━━━━━━━━━━\u001b[0m\u001b[37m\u001b[0m \u001b[1m15s\u001b[0m 192ms/step - loss: 0.0031 - mae: 0.0416 - val_loss: 0.0092 - val_mae: 0.0738\n",
      "Epoch 11/50\n",
      "\u001b[1m78/78\u001b[0m \u001b[32m━━━━━━━━━━━━━━━━━━━━\u001b[0m\u001b[37m\u001b[0m \u001b[1m15s\u001b[0m 192ms/step - loss: 0.0031 - mae: 0.0416 - val_loss: 0.0092 - val_mae: 0.0738\n",
      "Epoch 11/50\n",
      "\u001b[1m78/78\u001b[0m \u001b[32m━━━━━━━━━━━━━━━━━━━━\u001b[0m\u001b[37m\u001b[0m \u001b[1m14s\u001b[0m 181ms/step - loss: 0.0037 - mae: 0.0446 - val_loss: 0.0261 - val_mae: 0.1280\n",
      "Epoch 12/50\n",
      "\u001b[1m78/78\u001b[0m \u001b[32m━━━━━━━━━━━━━━━━━━━━\u001b[0m\u001b[37m\u001b[0m \u001b[1m14s\u001b[0m 181ms/step - loss: 0.0037 - mae: 0.0446 - val_loss: 0.0261 - val_mae: 0.1280\n",
      "Epoch 12/50\n",
      "\u001b[1m78/78\u001b[0m \u001b[32m━━━━━━━━━━━━━━━━━━━━\u001b[0m\u001b[37m\u001b[0m \u001b[1m18s\u001b[0m 230ms/step - loss: 0.0033 - mae: 0.0435 - val_loss: 0.0113 - val_mae: 0.0811\n",
      "Epoch 13/50\n",
      "\u001b[1m78/78\u001b[0m \u001b[32m━━━━━━━━━━━━━━━━━━━━\u001b[0m\u001b[37m\u001b[0m \u001b[1m18s\u001b[0m 230ms/step - loss: 0.0033 - mae: 0.0435 - val_loss: 0.0113 - val_mae: 0.0811\n",
      "Epoch 13/50\n",
      "\u001b[1m78/78\u001b[0m \u001b[32m━━━━━━━━━━━━━━━━━━━━\u001b[0m\u001b[37m\u001b[0m \u001b[1m15s\u001b[0m 185ms/step - loss: 0.0029 - mae: 0.0404 - val_loss: 0.0157 - val_mae: 0.0933\n",
      "Epoch 14/50\n",
      "\u001b[1m78/78\u001b[0m \u001b[32m━━━━━━━━━━━━━━━━━━━━\u001b[0m\u001b[37m\u001b[0m \u001b[1m15s\u001b[0m 185ms/step - loss: 0.0029 - mae: 0.0404 - val_loss: 0.0157 - val_mae: 0.0933\n",
      "Epoch 14/50\n",
      "\u001b[1m78/78\u001b[0m \u001b[32m━━━━━━━━━━━━━━━━━━━━\u001b[0m\u001b[37m\u001b[0m \u001b[1m15s\u001b[0m 191ms/step - loss: 0.0031 - mae: 0.0417 - val_loss: 0.0095 - val_mae: 0.0744\n",
      "Epoch 15/50\n",
      "\u001b[1m78/78\u001b[0m \u001b[32m━━━━━━━━━━━━━━━━━━━━\u001b[0m\u001b[37m\u001b[0m \u001b[1m15s\u001b[0m 191ms/step - loss: 0.0031 - mae: 0.0417 - val_loss: 0.0095 - val_mae: 0.0744\n",
      "Epoch 15/50\n",
      "\u001b[1m78/78\u001b[0m \u001b[32m━━━━━━━━━━━━━━━━━━━━\u001b[0m\u001b[37m\u001b[0m \u001b[1m15s\u001b[0m 187ms/step - loss: 0.0030 - mae: 0.0403 - val_loss: 0.0125 - val_mae: 0.0863\n",
      "Epoch 16/50\n",
      "\u001b[1m78/78\u001b[0m \u001b[32m━━━━━━━━━━━━━━━━━━━━\u001b[0m\u001b[37m\u001b[0m \u001b[1m15s\u001b[0m 187ms/step - loss: 0.0030 - mae: 0.0403 - val_loss: 0.0125 - val_mae: 0.0863\n",
      "Epoch 16/50\n",
      "\u001b[1m78/78\u001b[0m \u001b[32m━━━━━━━━━━━━━━━━━━━━\u001b[0m\u001b[37m\u001b[0m \u001b[1m15s\u001b[0m 189ms/step - loss: 0.0029 - mae: 0.0401 - val_loss: 0.0141 - val_mae: 0.0876\n",
      "Epoch 17/50\n",
      "\u001b[1m78/78\u001b[0m \u001b[32m━━━━━━━━━━━━━━━━━━━━\u001b[0m\u001b[37m\u001b[0m \u001b[1m15s\u001b[0m 189ms/step - loss: 0.0029 - mae: 0.0401 - val_loss: 0.0141 - val_mae: 0.0876\n",
      "Epoch 17/50\n",
      "\u001b[1m78/78\u001b[0m \u001b[32m━━━━━━━━━━━━━━━━━━━━\u001b[0m\u001b[37m\u001b[0m \u001b[1m15s\u001b[0m 190ms/step - loss: 0.0028 - mae: 0.0396 - val_loss: 0.0087 - val_mae: 0.0724\n",
      "Epoch 18/50\n",
      "\u001b[1m78/78\u001b[0m \u001b[32m━━━━━━━━━━━━━━━━━━━━\u001b[0m\u001b[37m\u001b[0m \u001b[1m15s\u001b[0m 190ms/step - loss: 0.0028 - mae: 0.0396 - val_loss: 0.0087 - val_mae: 0.0724\n",
      "Epoch 18/50\n",
      "\u001b[1m78/78\u001b[0m \u001b[32m━━━━━━━━━━━━━━━━━━━━\u001b[0m\u001b[37m\u001b[0m \u001b[1m15s\u001b[0m 186ms/step - loss: 0.0028 - mae: 0.0389 - val_loss: 0.0090 - val_mae: 0.0730\n",
      "Epoch 19/50\n",
      "\u001b[1m78/78\u001b[0m \u001b[32m━━━━━━━━━━━━━━━━━━━━\u001b[0m\u001b[37m\u001b[0m \u001b[1m15s\u001b[0m 186ms/step - loss: 0.0028 - mae: 0.0389 - val_loss: 0.0090 - val_mae: 0.0730\n",
      "Epoch 19/50\n",
      "\u001b[1m78/78\u001b[0m \u001b[32m━━━━━━━━━━━━━━━━━━━━\u001b[0m\u001b[37m\u001b[0m \u001b[1m15s\u001b[0m 190ms/step - loss: 0.0027 - mae: 0.0389 - val_loss: 0.0140 - val_mae: 0.0939\n",
      "Epoch 20/50\n",
      "\u001b[1m78/78\u001b[0m \u001b[32m━━━━━━━━━━━━━━━━━━━━\u001b[0m\u001b[37m\u001b[0m \u001b[1m15s\u001b[0m 190ms/step - loss: 0.0027 - mae: 0.0389 - val_loss: 0.0140 - val_mae: 0.0939\n",
      "Epoch 20/50\n",
      "\u001b[1m78/78\u001b[0m \u001b[32m━━━━━━━━━━━━━━━━━━━━\u001b[0m\u001b[37m\u001b[0m \u001b[1m15s\u001b[0m 195ms/step - loss: 0.0024 - mae: 0.0372 - val_loss: 0.0125 - val_mae: 0.0842\n",
      "Epoch 21/50\n",
      "\u001b[1m78/78\u001b[0m \u001b[32m━━━━━━━━━━━━━━━━━━━━\u001b[0m\u001b[37m\u001b[0m \u001b[1m15s\u001b[0m 195ms/step - loss: 0.0024 - mae: 0.0372 - val_loss: 0.0125 - val_mae: 0.0842\n",
      "Epoch 21/50\n",
      "\u001b[1m78/78\u001b[0m \u001b[32m━━━━━━━━━━━━━━━━━━━━\u001b[0m\u001b[37m\u001b[0m \u001b[1m16s\u001b[0m 198ms/step - loss: 0.0027 - mae: 0.0388 - val_loss: 0.0121 - val_mae: 0.0851\n",
      "Epoch 22/50\n",
      "\u001b[1m78/78\u001b[0m \u001b[32m━━━━━━━━━━━━━━━━━━━━\u001b[0m\u001b[37m\u001b[0m \u001b[1m16s\u001b[0m 198ms/step - loss: 0.0027 - mae: 0.0388 - val_loss: 0.0121 - val_mae: 0.0851\n",
      "Epoch 22/50\n",
      "\u001b[1m78/78\u001b[0m \u001b[32m━━━━━━━━━━━━━━━━━━━━\u001b[0m\u001b[37m\u001b[0m \u001b[1m14s\u001b[0m 181ms/step - loss: 0.0024 - mae: 0.0369 - val_loss: 0.0137 - val_mae: 0.0909\n",
      "Epoch 23/50\n",
      "\u001b[1m78/78\u001b[0m \u001b[32m━━━━━━━━━━━━━━━━━━━━\u001b[0m\u001b[37m\u001b[0m \u001b[1m14s\u001b[0m 181ms/step - loss: 0.0024 - mae: 0.0369 - val_loss: 0.0137 - val_mae: 0.0909\n",
      "Epoch 23/50\n",
      "\u001b[1m78/78\u001b[0m \u001b[32m━━━━━━━━━━━━━━━━━━━━\u001b[0m\u001b[37m\u001b[0m \u001b[1m14s\u001b[0m 179ms/step - loss: 0.0025 - mae: 0.0372 - val_loss: 0.0168 - val_mae: 0.0973\n",
      "Epoch 24/50\n",
      "\u001b[1m78/78\u001b[0m \u001b[32m━━━━━━━━━━━━━━━━━━━━\u001b[0m\u001b[37m\u001b[0m \u001b[1m14s\u001b[0m 179ms/step - loss: 0.0025 - mae: 0.0372 - val_loss: 0.0168 - val_mae: 0.0973\n",
      "Epoch 24/50\n",
      "\u001b[1m78/78\u001b[0m \u001b[32m━━━━━━━━━━━━━━━━━━━━\u001b[0m\u001b[37m\u001b[0m \u001b[1m14s\u001b[0m 181ms/step - loss: 0.0024 - mae: 0.0374 - val_loss: 0.0169 - val_mae: 0.0981\n",
      "Epoch 25/50\n",
      "\u001b[1m78/78\u001b[0m \u001b[32m━━━━━━━━━━━━━━━━━━━━\u001b[0m\u001b[37m\u001b[0m \u001b[1m14s\u001b[0m 181ms/step - loss: 0.0024 - mae: 0.0374 - val_loss: 0.0169 - val_mae: 0.0981\n",
      "Epoch 25/50\n",
      "\u001b[1m78/78\u001b[0m \u001b[32m━━━━━━━━━━━━━━━━━━━━\u001b[0m\u001b[37m\u001b[0m \u001b[1m15s\u001b[0m 186ms/step - loss: 0.0024 - mae: 0.0367 - val_loss: 0.0132 - val_mae: 0.0891\n",
      "Epoch 26/50\n",
      "\u001b[1m78/78\u001b[0m \u001b[32m━━━━━━━━━━━━━━━━━━━━\u001b[0m\u001b[37m\u001b[0m \u001b[1m15s\u001b[0m 186ms/step - loss: 0.0024 - mae: 0.0367 - val_loss: 0.0132 - val_mae: 0.0891\n",
      "Epoch 26/50\n",
      "\u001b[1m78/78\u001b[0m \u001b[32m━━━━━━━━━━━━━━━━━━━━\u001b[0m\u001b[37m\u001b[0m \u001b[1m15s\u001b[0m 194ms/step - loss: 0.0022 - mae: 0.0357 - val_loss: 0.0144 - val_mae: 0.0930\n",
      "Epoch 27/50\n",
      "\u001b[1m78/78\u001b[0m \u001b[32m━━━━━━━━━━━━━━━━━━━━\u001b[0m\u001b[37m\u001b[0m \u001b[1m15s\u001b[0m 194ms/step - loss: 0.0022 - mae: 0.0357 - val_loss: 0.0144 - val_mae: 0.0930\n",
      "Epoch 27/50\n",
      "\u001b[1m78/78\u001b[0m \u001b[32m━━━━━━━━━━━━━━━━━━━━\u001b[0m\u001b[37m\u001b[0m \u001b[1m14s\u001b[0m 181ms/step - loss: 0.0022 - mae: 0.0358 - val_loss: 0.0155 - val_mae: 0.0967\n",
      "Epoch 28/50\n",
      "\u001b[1m78/78\u001b[0m \u001b[32m━━━━━━━━━━━━━━━━━━━━\u001b[0m\u001b[37m\u001b[0m \u001b[1m14s\u001b[0m 181ms/step - loss: 0.0022 - mae: 0.0358 - val_loss: 0.0155 - val_mae: 0.0967\n",
      "Epoch 28/50\n",
      "\u001b[1m78/78\u001b[0m \u001b[32m━━━━━━━━━━━━━━━━━━━━\u001b[0m\u001b[37m\u001b[0m \u001b[1m15s\u001b[0m 187ms/step - loss: 0.0022 - mae: 0.0359 - val_loss: 0.0128 - val_mae: 0.0880\n",
      "Epoch 29/50\n",
      "\u001b[1m78/78\u001b[0m \u001b[32m━━━━━━━━━━━━━━━━━━━━\u001b[0m\u001b[37m\u001b[0m \u001b[1m15s\u001b[0m 187ms/step - loss: 0.0022 - mae: 0.0359 - val_loss: 0.0128 - val_mae: 0.0880\n",
      "Epoch 29/50\n",
      "\u001b[1m78/78\u001b[0m \u001b[32m━━━━━━━━━━━━━━━━━━━━\u001b[0m\u001b[37m\u001b[0m \u001b[1m14s\u001b[0m 181ms/step - loss: 0.0020 - mae: 0.0345 - val_loss: 0.0117 - val_mae: 0.0826\n",
      "Epoch 30/50\n",
      "\u001b[1m78/78\u001b[0m \u001b[32m━━━━━━━━━━━━━━━━━━━━\u001b[0m\u001b[37m\u001b[0m \u001b[1m14s\u001b[0m 181ms/step - loss: 0.0020 - mae: 0.0345 - val_loss: 0.0117 - val_mae: 0.0826\n",
      "Epoch 30/50\n",
      "\u001b[1m78/78\u001b[0m \u001b[32m━━━━━━━━━━━━━━━━━━━━\u001b[0m\u001b[37m\u001b[0m \u001b[1m14s\u001b[0m 183ms/step - loss: 0.0021 - mae: 0.0350 - val_loss: 0.0142 - val_mae: 0.0909\n",
      "Epoch 31/50\n",
      "\u001b[1m78/78\u001b[0m \u001b[32m━━━━━━━━━━━━━━━━━━━━\u001b[0m\u001b[37m\u001b[0m \u001b[1m14s\u001b[0m 183ms/step - loss: 0.0021 - mae: 0.0350 - val_loss: 0.0142 - val_mae: 0.0909\n",
      "Epoch 31/50\n",
      "\u001b[1m78/78\u001b[0m \u001b[32m━━━━━━━━━━━━━━━━━━━━\u001b[0m\u001b[37m\u001b[0m \u001b[1m15s\u001b[0m 187ms/step - loss: 0.0022 - mae: 0.0356 - val_loss: 0.0133 - val_mae: 0.0878\n",
      "Epoch 32/50\n",
      "\u001b[1m78/78\u001b[0m \u001b[32m━━━━━━━━━━━━━━━━━━━━\u001b[0m\u001b[37m\u001b[0m \u001b[1m15s\u001b[0m 187ms/step - loss: 0.0022 - mae: 0.0356 - val_loss: 0.0133 - val_mae: 0.0878\n",
      "Epoch 32/50\n",
      "\u001b[1m78/78\u001b[0m \u001b[32m━━━━━━━━━━━━━━━━━━━━\u001b[0m\u001b[37m\u001b[0m \u001b[1m15s\u001b[0m 184ms/step - loss: 0.0020 - mae: 0.0344 - val_loss: 0.0182 - val_mae: 0.1011\n",
      "Epoch 33/50\n",
      "\u001b[1m78/78\u001b[0m \u001b[32m━━━━━━━━━━━━━━━━━━━━\u001b[0m\u001b[37m\u001b[0m \u001b[1m15s\u001b[0m 184ms/step - loss: 0.0020 - mae: 0.0344 - val_loss: 0.0182 - val_mae: 0.1011\n",
      "Epoch 33/50\n",
      "\u001b[1m78/78\u001b[0m \u001b[32m━━━━━━━━━━━━━━━━━━━━\u001b[0m\u001b[37m\u001b[0m \u001b[1m18s\u001b[0m 228ms/step - loss: 0.0020 - mae: 0.0338 - val_loss: 0.0283 - val_mae: 0.1176\n",
      "Epoch 34/50\n",
      "\u001b[1m78/78\u001b[0m \u001b[32m━━━━━━━━━━━━━━━━━━━━\u001b[0m\u001b[37m\u001b[0m \u001b[1m18s\u001b[0m 228ms/step - loss: 0.0020 - mae: 0.0338 - val_loss: 0.0283 - val_mae: 0.1176\n",
      "Epoch 34/50\n",
      "\u001b[1m78/78\u001b[0m \u001b[32m━━━━━━━━━━━━━━━━━━━━\u001b[0m\u001b[37m\u001b[0m \u001b[1m17s\u001b[0m 212ms/step - loss: 0.0019 - mae: 0.0333 - val_loss: 0.0125 - val_mae: 0.0868\n",
      "Epoch 35/50\n",
      "\u001b[1m78/78\u001b[0m \u001b[32m━━━━━━━━━━━━━━━━━━━━\u001b[0m\u001b[37m\u001b[0m \u001b[1m17s\u001b[0m 212ms/step - loss: 0.0019 - mae: 0.0333 - val_loss: 0.0125 - val_mae: 0.0868\n",
      "Epoch 35/50\n",
      "\u001b[1m78/78\u001b[0m \u001b[32m━━━━━━━━━━━━━━━━━━━━\u001b[0m\u001b[37m\u001b[0m \u001b[1m18s\u001b[0m 225ms/step - loss: 0.0019 - mae: 0.0338 - val_loss: 0.0263 - val_mae: 0.1182\n",
      "Epoch 36/50\n",
      "\u001b[1m78/78\u001b[0m \u001b[32m━━━━━━━━━━━━━━━━━━━━\u001b[0m\u001b[37m\u001b[0m \u001b[1m18s\u001b[0m 225ms/step - loss: 0.0019 - mae: 0.0338 - val_loss: 0.0263 - val_mae: 0.1182\n",
      "Epoch 36/50\n",
      "\u001b[1m78/78\u001b[0m \u001b[32m━━━━━━━━━━━━━━━━━━━━\u001b[0m\u001b[37m\u001b[0m \u001b[1m14s\u001b[0m 183ms/step - loss: 0.0018 - mae: 0.0324 - val_loss: 0.0119 - val_mae: 0.0848\n",
      "Epoch 37/50\n",
      "\u001b[1m78/78\u001b[0m \u001b[32m━━━━━━━━━━━━━━━━━━━━\u001b[0m\u001b[37m\u001b[0m \u001b[1m14s\u001b[0m 183ms/step - loss: 0.0018 - mae: 0.0324 - val_loss: 0.0119 - val_mae: 0.0848\n",
      "Epoch 37/50\n",
      "\u001b[1m78/78\u001b[0m \u001b[32m━━━━━━━━━━━━━━━━━━━━\u001b[0m\u001b[37m\u001b[0m \u001b[1m15s\u001b[0m 187ms/step - loss: 0.0018 - mae: 0.0328 - val_loss: 0.0120 - val_mae: 0.0848\n",
      "Epoch 38/50\n",
      "\u001b[1m78/78\u001b[0m \u001b[32m━━━━━━━━━━━━━━━━━━━━\u001b[0m\u001b[37m\u001b[0m \u001b[1m15s\u001b[0m 187ms/step - loss: 0.0018 - mae: 0.0328 - val_loss: 0.0120 - val_mae: 0.0848\n",
      "Epoch 38/50\n",
      "\u001b[1m78/78\u001b[0m \u001b[32m━━━━━━━━━━━━━━━━━━━━\u001b[0m\u001b[37m\u001b[0m \u001b[1m15s\u001b[0m 185ms/step - loss: 0.0018 - mae: 0.0327 - val_loss: 0.0126 - val_mae: 0.0862\n",
      "Epoch 39/50\n",
      "\u001b[1m78/78\u001b[0m \u001b[32m━━━━━━━━━━━━━━━━━━━━\u001b[0m\u001b[37m\u001b[0m \u001b[1m15s\u001b[0m 185ms/step - loss: 0.0018 - mae: 0.0327 - val_loss: 0.0126 - val_mae: 0.0862\n",
      "Epoch 39/50\n",
      "\u001b[1m78/78\u001b[0m \u001b[32m━━━━━━━━━━━━━━━━━━━━\u001b[0m\u001b[37m\u001b[0m \u001b[1m14s\u001b[0m 182ms/step - loss: 0.0017 - mae: 0.0316 - val_loss: 0.0112 - val_mae: 0.0826\n",
      "Epoch 40/50\n",
      "\u001b[1m78/78\u001b[0m \u001b[32m━━━━━━━━━━━━━━━━━━━━\u001b[0m\u001b[37m\u001b[0m \u001b[1m14s\u001b[0m 182ms/step - loss: 0.0017 - mae: 0.0316 - val_loss: 0.0112 - val_mae: 0.0826\n",
      "Epoch 40/50\n",
      "\u001b[1m78/78\u001b[0m \u001b[32m━━━━━━━━━━━━━━━━━━━━\u001b[0m\u001b[37m\u001b[0m \u001b[1m15s\u001b[0m 194ms/step - loss: 0.0017 - mae: 0.0319 - val_loss: 0.0154 - val_mae: 0.0950\n",
      "Epoch 41/50\n",
      "\u001b[1m78/78\u001b[0m \u001b[32m━━━━━━━━━━━━━━━━━━━━\u001b[0m\u001b[37m\u001b[0m \u001b[1m15s\u001b[0m 194ms/step - loss: 0.0017 - mae: 0.0319 - val_loss: 0.0154 - val_mae: 0.0950\n",
      "Epoch 41/50\n",
      "\u001b[1m78/78\u001b[0m \u001b[32m━━━━━━━━━━━━━━━━━━━━\u001b[0m\u001b[37m\u001b[0m \u001b[1m15s\u001b[0m 188ms/step - loss: 0.0017 - mae: 0.0317 - val_loss: 0.0174 - val_mae: 0.0990\n",
      "Epoch 42/50\n",
      "\u001b[1m78/78\u001b[0m \u001b[32m━━━━━━━━━━━━━━━━━━━━\u001b[0m\u001b[37m\u001b[0m \u001b[1m15s\u001b[0m 188ms/step - loss: 0.0017 - mae: 0.0317 - val_loss: 0.0174 - val_mae: 0.0990\n",
      "Epoch 42/50\n",
      "\u001b[1m78/78\u001b[0m \u001b[32m━━━━━━━━━━━━━━━━━━━━\u001b[0m\u001b[37m\u001b[0m \u001b[1m14s\u001b[0m 181ms/step - loss: 0.0016 - mae: 0.0303 - val_loss: 0.0281 - val_mae: 0.1195\n",
      "Epoch 43/50\n",
      "\u001b[1m78/78\u001b[0m \u001b[32m━━━━━━━━━━━━━━━━━━━━\u001b[0m\u001b[37m\u001b[0m \u001b[1m14s\u001b[0m 181ms/step - loss: 0.0016 - mae: 0.0303 - val_loss: 0.0281 - val_mae: 0.1195\n",
      "Epoch 43/50\n",
      "\u001b[1m78/78\u001b[0m \u001b[32m━━━━━━━━━━━━━━━━━━━━\u001b[0m\u001b[37m\u001b[0m \u001b[1m15s\u001b[0m 190ms/step - loss: 0.0016 - mae: 0.0308 - val_loss: 0.0126 - val_mae: 0.0882\n",
      "Epoch 44/50\n",
      "\u001b[1m78/78\u001b[0m \u001b[32m━━━━━━━━━━━━━━━━━━━━\u001b[0m\u001b[37m\u001b[0m \u001b[1m15s\u001b[0m 190ms/step - loss: 0.0016 - mae: 0.0308 - val_loss: 0.0126 - val_mae: 0.0882\n",
      "Epoch 44/50\n",
      "\u001b[1m78/78\u001b[0m \u001b[32m━━━━━━━━━━━━━━━━━━━━\u001b[0m\u001b[37m\u001b[0m \u001b[1m15s\u001b[0m 185ms/step - loss: 0.0017 - mae: 0.0315 - val_loss: 0.0150 - val_mae: 0.0926\n",
      "Epoch 45/50\n",
      "\u001b[1m78/78\u001b[0m \u001b[32m━━━━━━━━━━━━━━━━━━━━\u001b[0m\u001b[37m\u001b[0m \u001b[1m15s\u001b[0m 185ms/step - loss: 0.0017 - mae: 0.0315 - val_loss: 0.0150 - val_mae: 0.0926\n",
      "Epoch 45/50\n",
      "\u001b[1m78/78\u001b[0m \u001b[32m━━━━━━━━━━━━━━━━━━━━\u001b[0m\u001b[37m\u001b[0m \u001b[1m14s\u001b[0m 182ms/step - loss: 0.0015 - mae: 0.0299 - val_loss: 0.0153 - val_mae: 0.0917\n",
      "Epoch 46/50\n",
      "\u001b[1m78/78\u001b[0m \u001b[32m━━━━━━━━━━━━━━━━━━━━\u001b[0m\u001b[37m\u001b[0m \u001b[1m14s\u001b[0m 182ms/step - loss: 0.0015 - mae: 0.0299 - val_loss: 0.0153 - val_mae: 0.0917\n",
      "Epoch 46/50\n",
      "\u001b[1m78/78\u001b[0m \u001b[32m━━━━━━━━━━━━━━━━━━━━\u001b[0m\u001b[37m\u001b[0m \u001b[1m15s\u001b[0m 191ms/step - loss: 0.0016 - mae: 0.0308 - val_loss: 0.0230 - val_mae: 0.1139\n",
      "Epoch 47/50\n",
      "\u001b[1m78/78\u001b[0m \u001b[32m━━━━━━━━━━━━━━━━━━━━\u001b[0m\u001b[37m\u001b[0m \u001b[1m15s\u001b[0m 191ms/step - loss: 0.0016 - mae: 0.0308 - val_loss: 0.0230 - val_mae: 0.1139\n",
      "Epoch 47/50\n",
      "\u001b[1m78/78\u001b[0m \u001b[32m━━━━━━━━━━━━━━━━━━━━\u001b[0m\u001b[37m\u001b[0m \u001b[1m14s\u001b[0m 180ms/step - loss: 0.0015 - mae: 0.0302 - val_loss: 0.0129 - val_mae: 0.0880\n",
      "Epoch 48/50\n",
      "\u001b[1m78/78\u001b[0m \u001b[32m━━━━━━━━━━━━━━━━━━━━\u001b[0m\u001b[37m\u001b[0m \u001b[1m14s\u001b[0m 180ms/step - loss: 0.0015 - mae: 0.0302 - val_loss: 0.0129 - val_mae: 0.0880\n",
      "Epoch 48/50\n",
      "\u001b[1m78/78\u001b[0m \u001b[32m━━━━━━━━━━━━━━━━━━━━\u001b[0m\u001b[37m\u001b[0m \u001b[1m15s\u001b[0m 193ms/step - loss: 0.0016 - mae: 0.0304 - val_loss: 0.0127 - val_mae: 0.0866\n",
      "Epoch 49/50\n",
      "\u001b[1m78/78\u001b[0m \u001b[32m━━━━━━━━━━━━━━━━━━━━\u001b[0m\u001b[37m\u001b[0m \u001b[1m15s\u001b[0m 193ms/step - loss: 0.0016 - mae: 0.0304 - val_loss: 0.0127 - val_mae: 0.0866\n",
      "Epoch 49/50\n",
      "\u001b[1m78/78\u001b[0m \u001b[32m━━━━━━━━━━━━━━━━━━━━\u001b[0m\u001b[37m\u001b[0m \u001b[1m15s\u001b[0m 190ms/step - loss: 0.0016 - mae: 0.0306 - val_loss: 0.0143 - val_mae: 0.0922\n",
      "Epoch 50/50\n",
      "\u001b[1m78/78\u001b[0m \u001b[32m━━━━━━━━━━━━━━━━━━━━\u001b[0m\u001b[37m\u001b[0m \u001b[1m15s\u001b[0m 190ms/step - loss: 0.0016 - mae: 0.0306 - val_loss: 0.0143 - val_mae: 0.0922\n",
      "Epoch 50/50\n",
      "\u001b[1m78/78\u001b[0m \u001b[32m━━━━━━━━━━━━━━━━━━━━\u001b[0m\u001b[37m\u001b[0m \u001b[1m15s\u001b[0m 192ms/step - loss: 0.0015 - mae: 0.0298 - val_loss: 0.0141 - val_mae: 0.0908\n",
      "\u001b[1m78/78\u001b[0m \u001b[32m━━━━━━━━━━━━━━━━━━━━\u001b[0m\u001b[37m\u001b[0m \u001b[1m15s\u001b[0m 192ms/step - loss: 0.0015 - mae: 0.0298 - val_loss: 0.0141 - val_mae: 0.0908\n"
     ]
    }
   ],
   "source": [
    "\n",
    "\n",
    "history = model.fit(X_train, Y_train, epochs=50, batch_size=32,\n",
    "                    validation_data=(X_val, Y_val))\n",
    "\n"
   ]
  },
  {
   "cell_type": "markdown",
   "id": "23220fcd",
   "metadata": {},
   "source": [
    "### Model Evaluation\n",
    "This cell evaluates the model's performance by predicting the test data and visualizing the results."
   ]
  },
  {
   "cell_type": "code",
   "execution_count": 7,
   "id": "18895667",
   "metadata": {},
   "outputs": [
    {
     "name": "stdout",
     "output_type": "stream",
     "text": [
      "\u001b[1m17/17\u001b[0m \u001b[32m━━━━━━━━━━━━━━━━━━━━\u001b[0m\u001b[37m\u001b[0m \u001b[1m2s\u001b[0m 120ms/step\n",
      "\u001b[1m17/17\u001b[0m \u001b[32m━━━━━━━━━━━━━━━━━━━━\u001b[0m\u001b[37m\u001b[0m \u001b[1m2s\u001b[0m 120ms/step\n"
     ]
    },
    {
     "data": {
      "image/png": "[encoded data removed]",
      "text/plain": [
       "<Figure size 640x480 with 1 Axes>"
      ]
     },
     "metadata": {},
     "output_type": "display_data"
    }
   ],
   "source": [
    "\n",
    "\n",
    "import matplotlib.pyplot as plt\n",
    "\n",
    "preds = model.predict(X_test)\n",
    "plt.plot(Y_test.flatten(), label='Real')\n",
    "plt.plot(preds.flatten(), label='Predicción')\n",
    "plt.legend()\n",
    "plt.title('Predicción del Precio del Oro (Test)')\n",
    "plt.show()\n",
    "\n"
   ]
  },
  {
   "cell_type": "markdown",
   "id": "d81e2b24",
   "metadata": {},
   "source": [
    "### Saving the Model\n",
    "This cell saves the trained model and the scaler for future use."
   ]
  },
  {
   "cell_type": "code",
   "execution_count": 8,
   "id": "93438575",
   "metadata": {},
   "outputs": [
    {
     "name": "stderr",
     "output_type": "stream",
     "text": [
      "WARNING:absl:You are saving your model as an HDF5 file via `model.save()` or `keras.saving.save_model(model)`. This file format is considered legacy. We recommend using instead the native Keras format, e.g. `model.save('my_model.keras')` or `keras.saving.save_model(model, 'my_model.keras')`. \n"
     ]
    },
    {
     "data": {
      "text/plain": [
       "['scaler_robust.pkl']"
      ]
     },
     "execution_count": 8,
     "metadata": {},
     "output_type": "execute_result"
    }
   ],
   "source": [
    "\n",
    "\n",
    "model.save('modelo_oro_lstm.h5')\n",
    "import joblib\n",
    "joblib.dump(scaler, 'scaler_robust.pkl')\n",
    "\n"
   ]
  }
 ],
 "metadata": {
  "kernelspec": {
   "display_name": ".venv",
   "language": "python",
   "name": "python3"
  },
  "language_info": {
   "codemirror_mode": {
    "name": "ipython",
    "version": 3
   },
   "file_extension": ".py",
   "mimetype": "text/x-python",
   "name": "python",
   "nbconvert_exporter": "python",
   "pygments_lexer": "ipython3",
   "version": "3.12.4"
  }
 },
 "nbformat": 4,
 "nbformat_minor": 5
}
